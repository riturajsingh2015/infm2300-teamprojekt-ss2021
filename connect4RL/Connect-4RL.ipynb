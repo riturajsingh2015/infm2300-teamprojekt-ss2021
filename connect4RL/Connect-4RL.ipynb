{
 "cells": [
  {
   "cell_type": "markdown",
   "metadata": {
    "slideshow": {
     "slide_type": "slide"
    }
   },
   "source": [
    "# Connect4 mit Reinforcement Learning\n",
    "* #### Teamprojekt von Rituraj Singh und Kevin Bücher im SS21\n",
    "* #### Eingereicht bei - Prof. Dr. rer. nat. Grüning, André"
   ]
  },
  {
   "cell_type": "markdown",
   "metadata": {
    "slideshow": {
     "slide_type": "slide"
    }
   },
   "source": [
    "### Inhalt\n",
    "* Reinforcement Learning\n",
    "* Connect4-Umgebung\n",
    "* Markov Decision Processes\n",
    "* Exploration vs. Exploitation\n",
    "* Lösungsansatz 1\n",
    "* Lösungsansatz 2\n",
    "* Ergebnisse der Lösungsansätze"
   ]
  },
  {
   "cell_type": "markdown",
   "metadata": {
    "slideshow": {
     "slide_type": "slide"
    }
   },
   "source": [
    "# ***Reinforcement Learning***\n",
    "* ein Bereich des maschinellen Lernens,der sich darauf konzentriert,wie etwas in einer Umgebung handeln könnte, um eine bestimmte Belohnung zu maximieren\n",
    "* Algorithmen des Reinforcement Learning untersuchen das Verhalten von Subjekten in solchen Umgebungen und lernen, dieses Verhalten zu optimieren."
   ]
  },
  {
   "cell_type": "markdown",
   "metadata": {
    "slideshow": {
     "slide_type": "slide"
    }
   },
   "source": [
    "## ***Connect4-Umgebung***\n",
    "<br><br>\n",
    "<center><img src=\"https://upload.wikimedia.org/wikipedia/commons/thumb/a/ad/Connect_Four.gif/220px-Connect_Four.gif\" alt=\"Image of RL Agents\" width=\"400\"/></center>"
   ]
  },
  {
   "cell_type": "markdown",
   "metadata": {
    "slideshow": {
     "slide_type": "skip"
    }
   },
   "source": [
    "* Connect Four ist ein Verbindungs-Brettspiel für zwei Spieler, bei dem die Spieler eine Farbe wählen und dann abwechselnd farbige Scheiben in ein siebenspaltiges, sechsreihiges, vertikal hängendes Gitter fallen lassen. Die Spielsteine fallen gerade nach unten und nehmen den untersten verfügbaren Platz innerhalb der Spalte ein. Ziel des Spiels ist es, als Erster eine horizontale, vertikale oder diagonale Linie aus vier eigenen Scheiben zu bilden."
   ]
  },
  {
   "cell_type": "markdown",
   "metadata": {
    "slideshow": {
     "slide_type": "slide"
    }
   },
   "source": [
    "### ***Markov Decision Processes (MDPs)***\n",
    "Markov Decision Process ist ein Prozess der Strukturierung eines Reinforcement Learning Problems.Komponenten des MDP sind\n",
    "* Agent\n",
    "* Umgebung - Connect 4 \n",
    "* Zustand\n",
    "* Aktion\n",
    "* Belohnung"
   ]
  },
  {
   "cell_type": "markdown",
   "metadata": {
    "slideshow": {
     "slide_type": "subslide"
    }
   },
   "source": [
    "<center><img src=\"https://deeplizard.com/images/MDP-diagram.jpg\" alt=\"Image of RL Agents\" width=\"800\"/></center>\n",
    "<center>https://deeplizard.com/images/MDP-diagram.jpg <center>"
   ]
  },
  {
   "cell_type": "markdown",
   "metadata": {
    "slideshow": {
     "slide_type": "skip"
    }
   },
   "source": [
    "<center><img src=\"mdp.png\" alt=\"Image of RL Agents\" width=\"800\"/></center>\n",
    "<center>Quelle - https://deeplizard.com/learn/video/my207WNoeyA <center>"
   ]
  },
  {
   "cell_type": "markdown",
   "metadata": {
    "slideshow": {
     "slide_type": "slide"
    }
   },
   "source": [
    "## ***Q-Learning***\n",
    "* Q-learning ist eine Technik, die die optimale Strategie in einem MDP lösen kann.Das Ziel des Q-Learnings ist es, eine Strategie zu finden, die in dem Sinne optimal ist, dass der erwartete Wert der Gesamtbelohnung über alle aufeinanderfolgenden Schritte das maximal erreichbare ist."
   ]
  },
  {
   "cell_type": "markdown",
   "metadata": {
    "slideshow": {
     "slide_type": "subslide"
    }
   },
   "source": [
    "**Voraussetzungen für Q-Lernen:**\n",
    "* ***Optimal Policy*** - das beste aller Mappings von jedem Zustand im Zustandsraum auf die Wahrscheinlichkeiten der Durchführung jeder möglichen Aktion aus jedem Zustand.\n",
    "* ***Q-Tabelle*** - Q-Tabelle speichert die Q-Werte für jedes Zustands-Aktionspaar. Die horizontale Achse der Tabelle stellt die Aktionen dar, die vertikale Achse die Zustände. Die Dimensionen der Tabelle sind also die Anzahl der Aktionen mal die Anzahl der Zustände."
   ]
  },
  {
   "cell_type": "markdown",
   "metadata": {
    "slideshow": {
     "slide_type": "subslide"
    }
   },
   "source": [
    "**Voraussetzungen für Q-Lernen:**\n",
    "* ***Wert-Iteration*** -\n",
    "<br>\\begin{eqnarray*} q_{\\ast }\\left( s,a\\right) &=&E\\left[ R_{t+1}+\\gamma \\max_{a^{\\prime }}q_{\\ast }\\left( s^\\prime,a^{\\prime }\\right)\\right] \\end{eqnarray*}\n",
    "Der Q-Lernalgorithmus aktualisiert iterativ die Q-Werte für jedes Zustands-Aktionspaar unter Verwendung der Bellman-Gleichung, bis die Q-Funktion gegen die optimale Q-Funktion konvergiert, q*. Dieser Ansatz wird Wert-Iteration genannt. "
   ]
  },
  {
   "cell_type": "markdown",
   "metadata": {
    "slideshow": {
     "slide_type": "subslide"
    }
   },
   "source": [
    "<center><img  src=\"https://www.baeldung.com/wp-content/uploads/sites/4/2020/12/q-learning-Q-table.png\" alt=\"Image of Q-Table\" width=\"500\"/></center><br>\n",
    "<center>Q-Tabelle zum Speichern von Zustands-Aktionspaaren</center>"
   ]
  },
  {
   "cell_type": "markdown",
   "metadata": {
    "slideshow": {
     "slide_type": "slide"
    }
   },
   "source": [
    "## ***Exploration vs. Exploitation***\n",
    "* ***Exploration*** - der Akt der Erkundung der Umgebung, um Informationen über sie herauszufinden. \n",
    "* ***Exploitation*** - der Akt der Ausnutzung der Informationen, die bereits über die Umgebung bekannt sind, um den Ertrag zu maximieren."
   ]
  },
  {
   "cell_type": "markdown",
   "metadata": {
    "slideshow": {
     "slide_type": "subslide"
    }
   },
   "source": [
    "## ***Lösungsansätze***"
   ]
  },
  {
   "cell_type": "markdown",
   "metadata": {
    "slideshow": {
     "slide_type": "skip"
    }
   },
   "source": [
    "Basierend auf Exploration und Exploitation hatten wir zwei Ansätze verfolgt, um connect4 mit Reinforcement Learning zu lösen"
   ]
  },
  {
   "cell_type": "markdown",
   "metadata": {
    "slideshow": {
     "slide_type": "subslide"
    }
   },
   "source": [
    "***Ansatz 1***<br>\n",
    "in unserem ersten Ansatz zur Lösung des connect4-Problems beginnen die Agenten mit einem niedrigen Explorationsfaktor und mit jeder Episode erhöht sich der Explorationsfaktor, was dem Agenten erlaubt, mehr zu erkunden."
   ]
  },
  {
   "cell_type": "code",
   "execution_count": 4,
   "metadata": {
    "slideshow": {
     "slide_type": "skip"
    }
   },
   "outputs": [],
   "source": [
    "# pip installs and extensions \n",
    "#!pip install jupyter_contrib_nbextensions\n",
    "#!pip install RISE\n",
    "#!pip install ipywidgets\n",
    "#!jupyter nbextension enable --py widgetsnbextensionjupyter nbextension enable --py widgetsnbextension"
   ]
  },
  {
   "cell_type": "code",
   "execution_count": 6,
   "metadata": {
    "slideshow": {
     "slide_type": "skip"
    }
   },
   "outputs": [],
   "source": [
    "# imports\n",
    "from ipywidgets import HTML, Button, GridBox, Layout, ButtonStyle\n",
    "import numpy as np\n",
    "import matplotlib.pyplot as plt\n",
    "from collections import defaultdict\n",
    "import random"
   ]
  },
  {
   "cell_type": "markdown",
   "metadata": {
    "slideshow": {
     "slide_type": "skip"
    }
   },
   "source": [
    "# ***Interaktive Connect4-Umgebung***"
   ]
  },
  {
   "cell_type": "markdown",
   "metadata": {
    "slideshow": {
     "slide_type": "skip"
    }
   },
   "source": [
    "mit Hilfe dieser interaktiven Umgebung können menschliche Spieler gegeneinander spielen"
   ]
  },
  {
   "cell_type": "code",
   "execution_count": 7,
   "metadata": {
    "slideshow": {
     "slide_type": "skip"
    }
   },
   "outputs": [],
   "source": [
    "rows=6 \n",
    "cols =7\n",
    "board=np.zeros((rows,cols))\n",
    "#board ####________________####\n",
    "\n",
    "green_holes=[\n",
    "                         Button(\n",
    "                             layout=Layout(width='auto', height='auto'),\n",
    "                             description=str(int(board[i//cols][i%cols])),  \n",
    "                             disabled=False,\n",
    "                             style=ButtonStyle(button_color='#EFEFEF')\n",
    "                         ) for i in range(rows*cols)\n",
    "                 ]\n",
    "buttons=[\n",
    "                         Button(\n",
    "                             layout=Layout(width='auto', height='auto'),\n",
    "                             description=str(int(i%cols)),  \n",
    "                             disabled=False,\n",
    "                             style=ButtonStyle(button_color='#bc8f8f')\n",
    "                         ) for i in range(1*cols)\n",
    "                 ]\n",
    "\n",
    "\n",
    "board_config=green_holes+buttons\n",
    "\n",
    "# setup the board enviroment #\n",
    "board_env=GridBox(children=board_config,\n",
    "        layout=Layout(\n",
    "            width='30%',\n",
    "            grid_template_columns='repeat('+str(cols)+', 40px)',\n",
    "            grid_template_rows='repeat('+str(rows+1)+', 40px)',\n",
    "            grid_gap='1px 1px'))\n",
    "\n",
    "# board state checking functions\n",
    "def square_winner(square):\n",
    "        s = np.append([np.sum(square, axis=0), np.sum(square, axis=1).T],\n",
    "                      [np.trace(square), np.flip(square,axis=1).trace()])\n",
    "        if np.max(s) == 4:\n",
    "            winner_tag = 1\n",
    "        elif np.min(s) == -4:\n",
    "            winner_tag = -1\n",
    "        else:\n",
    "            winner_tag = None\n",
    "        return winner_tag\n",
    "\n",
    "\n",
    "def game_winner(state):\n",
    "        winner = None\n",
    "        find = False\n",
    "        for i in range(len(state[:,0])-3):\n",
    "            for j in range(len(state[0, :])-3):\n",
    "                winner = square_winner(state[i:i+4, j:j+4])\n",
    "                if winner is not None:\n",
    "                    print('Winner is: Player-', winner)\n",
    "                    #self.print_game()\n",
    "                    find = True \n",
    "                    break\n",
    "            if find: \n",
    "                break  \n",
    "\n",
    "        if np.min(np.abs(state[0, :])) != 0:\n",
    "            winner = 0\n",
    "            print('no winner')\n",
    "\n",
    "        return winner\n",
    "    \n",
    "player1_turn=True \n",
    "# player1_turn=True for player-1 and player1_turn=False for player-2\n",
    "# +1 for player-1 and -1 for player-2 \n",
    "# yellow denotes player-1 und red player-2\n",
    "def drop_piece(turn, col_no):  \n",
    "    global player1_turn\n",
    "    row_no=np.where(board[:, col_no] == 0)[0][-1]\n",
    "    tag=None\n",
    "    bg_color=None\n",
    "    if player1_turn: # then its turn for player-1            \n",
    "        tag=1\n",
    "        bg_color=\"#FEF600\" #yellow\n",
    "        #Switch the turn for next iteration\n",
    "        player1_turn=False\n",
    "    else: # then its turn for player-2            \n",
    "        tag=-1\n",
    "        bg_color=\"#FE1B00\" # red\n",
    "        #Switch the turn for next iteration\n",
    "        player1_turn=True\n",
    "    \n",
    "    board[row_no][col_no]=tag\n",
    "    # equivalent button_number\n",
    "    button_no=cols*row_no+col_no    \n",
    "    green_holes[button_no].description=str(tag)\n",
    "    green_holes[button_no].style=ButtonStyle(button_color=bg_color)\n",
    "    \n",
    "def on_button_clicked(b):    \n",
    "    col_no=int(b.description)\n",
    "    drop_piece(player1_turn, col_no)\n",
    "    game_winner(board)       \n",
    "        \n",
    "for child_button in buttons:\n",
    "    child_button.on_click(on_button_clicked)"
   ]
  },
  {
   "cell_type": "code",
   "execution_count": 8,
   "metadata": {
    "slideshow": {
     "slide_type": "skip"
    }
   },
   "outputs": [
    {
     "data": {
      "application/vnd.jupyter.widget-view+json": {
       "model_id": "a9f65ea20b454b26a8269e4dd9eb9a85",
       "version_major": 2,
       "version_minor": 0
      },
      "text/plain": [
       "GridBox(children=(Button(description='0', layout=Layout(height='auto', width='auto'), style=ButtonStyle(button…"
      ]
     },
     "metadata": {},
     "output_type": "display_data"
    }
   ],
   "source": [
    "board_env"
   ]
  },
  {
   "cell_type": "code",
   "execution_count": 9,
   "metadata": {
    "slideshow": {
     "slide_type": "skip"
    }
   },
   "outputs": [
    {
     "data": {
      "text/plain": [
       "array([[0., 0., 0., 0., 0., 0., 0.],\n",
       "       [0., 0., 0., 0., 0., 0., 0.],\n",
       "       [0., 0., 0., 0., 0., 0., 0.],\n",
       "       [0., 0., 0., 0., 0., 0., 0.],\n",
       "       [0., 0., 0., 0., 0., 0., 0.],\n",
       "       [0., 0., 0., 0., 0., 0., 0.]])"
      ]
     },
     "execution_count": 9,
     "metadata": {},
     "output_type": "execute_result"
    }
   ],
   "source": [
    "board"
   ]
  },
  {
   "cell_type": "markdown",
   "metadata": {
    "slideshow": {
     "slide_type": "slide"
    }
   },
   "source": [
    "# ***Ansatz 1***"
   ]
  },
  {
   "cell_type": "markdown",
   "metadata": {
    "slideshow": {
     "slide_type": "subslide"
    }
   },
   "source": [
    "<center><img src=\"https://wikimedia.org/api/rest_v1/media/math/render/svg/678cb558a9d59c33ef4810c9618baf34a9577686\" alt=\"Image of RL Agents\" width=\"1000\" height=\"300\"/></center>\n",
    "<hr>"
   ]
  },
  {
   "cell_type": "raw",
   "metadata": {
    "slideshow": {
     "slide_type": "-"
    }
   },
   "source": [
    "q_table[prev_state][action] = q_table[prev_state][action] \n",
    "                    * (1 - learning_rate) \n",
    "                    + learning_rate \n",
    "                    * (reward + discount_rate \n",
    "                    * np.max(q_table[new_state]))"
   ]
  },
  {
   "cell_type": "code",
   "execution_count": null,
   "metadata": {
    "slideshow": {
     "slide_type": "subslide"
    }
   },
   "outputs": [],
   "source": [
    "def choose_move(self,state, winner):           \n",
    "\n",
    "    exploration_rate_threshold = random.uniform(0, 1)\n",
    "\n",
    "    ava_moves = self.ava_moves(state)\n",
    "    \n",
    "    if exploration_rate_threshold > self.exp_factor:  \n",
    "        idx = np.argmax(self.q_table[np.array_str(state)])\n",
    "        if idx in ava_moves:\n",
    "            pass\n",
    "        else:\n",
    "            idx = random.choice(ava_moves)                \n",
    "\n",
    "    else: \n",
    "        idx = random.choice(ava_moves) \n",
    "    return idx "
   ]
  },
  {
   "cell_type": "markdown",
   "metadata": {
    "slideshow": {
     "slide_type": "skip"
    }
   },
   "source": [
    "#### RL_Agent"
   ]
  },
  {
   "cell_type": "code",
   "execution_count": 29,
   "metadata": {
    "slideshow": {
     "slide_type": "skip"
    }
   },
   "outputs": [],
   "source": [
    "\"\"\"\n",
    "RL_Agent is the reinforcement learning agent.\n",
    "--- Important functions ---\n",
    "1. update_exp_factor - Once an episode is finished, we need to update our exploration_rate using exponential decay, \n",
    "which just means that the exploration rate decreases or decays at a rate proportional to its current value.\n",
    "2. update_qtable - makes the transition from previous to new state and updates the qtable's state-action pair\n",
    "3. choose_move - chooses the optimal move based on current state \n",
    "\"\"\" \n",
    "class RL_Agent:\n",
    "\n",
    "    def __init__(self, tag, exploration_factor=0.99):\n",
    "        self.tag = tag\n",
    "        self.exp_factor = exploration_factor\n",
    "        self.learning_rate = 0.1\n",
    "        self.discount_rate = 0.99        \n",
    "        self.max_exploration_rate = 1\n",
    "        self.min_exploration_rate = 0.01\n",
    "        self.exploration_decay_rate = 0.01\n",
    "        self.env_action_space=7        \n",
    "        self.q_table=defaultdict(lambda: np.zeros(self.env_action_space)) # dictionary \n",
    "        self.rewards_all_episodes = []\n",
    "        self.rewards_current_episode = 0\n",
    "        self.q_table_state_space_per_ep=[]\n",
    "        \n",
    "        \n",
    "    def get_the_average_rewards_as_x_y(self,per_ep,num_episodes):\n",
    "        # Calculate and print the average reward per per_ep episodes\n",
    "        rewards_per_thousand_episodes = np.split(np.array(self.get_rewards_all_episodes()),num_episodes/per_ep)\n",
    "        count = per_ep      \n",
    "        x=np.arange(0,num_episodes,per_ep)+per_ep\n",
    "        y=[]\n",
    "        for r in rewards_per_thousand_episodes:\n",
    "            y.append(sum(r/per_ep))\n",
    "\n",
    "        return x,y\n",
    "    \n",
    "    def update_exp_factor(self,episode):\n",
    "        # when the episode has ended\n",
    "        # update the exp_factor\n",
    "        self.exp_factor = self.min_exploration_rate + (self.max_exploration_rate - self.min_exploration_rate) * np.exp(-self.exploration_decay_rate*episode)\n",
    "        # since the episode has ended we collect rewards \n",
    "        self.rewards_all_episodes.append(self.rewards_current_episode)\n",
    "        # set current episode reward to 0 for the next episode\n",
    "        self.rewards_current_episode = 0\n",
    "        # and collect the size of q_table at the end of this episode\n",
    "        self.q_table_state_space_per_ep.append(len(self.q_table))\n",
    "        \n",
    "    def ava_moves(self, state): # checks available moves\n",
    "        return np.where(state[0, :] == 0)[0]\n",
    "    \n",
    "    \n",
    "    def get_rewards_all_episodes(self): # gets all the reward points collected by the agent\n",
    "        #self.print_qtable()\n",
    "        #self.plot_q_table_state_space()\n",
    "        return self.rewards_all_episodes\n",
    "    \n",
    "    def get_q_table_state_space_per_ep(self):\n",
    "        return self.q_table_state_space_per_ep\n",
    "          \n",
    "    def update_qtable(self,prev_state,new_state,action,reward):\n",
    "        # this q_table implementation has to be implemented with default dictionaries\n",
    "        # use the q_table above\n",
    "        prev_state,new_state=np.array_str(prev_state),np.array_str(new_state)\n",
    "        self.q_table[prev_state][action] = self.q_table[prev_state][action] * (1 - self.learning_rate) + self.learning_rate * (reward + self.discount_rate * np.max(self.q_table[new_state]))\n",
    "        self.rewards_current_episode += reward\n",
    "        #print(self.rewards_current_episode)\n",
    "\n",
    "    def print_qtable(self):\n",
    "        print(\"q_table of by player-\"+str(self.tag))\n",
    "        for k,v in self.q_table.items():\n",
    "            print (f\"{k} - {v}\")\n",
    "        \n",
    "    def choose_move(self,state, winner):  #           \n",
    "        # Exploration-exploitation trade-off\n",
    "        exploration_rate_threshold = random.uniform(0, 1)\n",
    "        # at starting the Agent will frequently explore the env and later shud start exploiting it as well        \n",
    "        # calculate available moves ##\n",
    "        ava_moves = self.ava_moves(state)\n",
    "        if exploration_rate_threshold > self.exp_factor: # then exploit the env --> use Qtable or memory info \n",
    "            idx = np.argmax(self.q_table[np.array_str(state)])  #self.choose_optimal_move(state)\n",
    "            if idx in ava_moves:\n",
    "                #print(\"!!! Used the q_table content !!!\")\n",
    "                pass\n",
    "            else:\n",
    "                idx = random.choice(ava_moves)                \n",
    "            \n",
    "            \n",
    "        else: # then explore the enviroment --> randomly sample a move from available moves \n",
    "            # when self.exp_factor=1 then all the time moves are randomly sampled \n",
    "            idx = random.choice(ava_moves) # that is the agent always explores the enviroment  \n",
    "        return idx # return choosen move\n",
    "\n",
    "    "
   ]
  },
  {
   "cell_type": "markdown",
   "metadata": {
    "slideshow": {
     "slide_type": "skip"
    }
   },
   "source": [
    "####  Connect-4 Enviroment"
   ]
  },
  {
   "cell_type": "code",
   "execution_count": 30,
   "metadata": {
    "slideshow": {
     "slide_type": "skip"
    }
   },
   "outputs": [],
   "source": [
    "\"\"\"\n",
    "connect4_enviroment is the connect4 enviroment\n",
    "--- Important functions ---\n",
    "1. make_state_from_move - Returns a new state by making a transition to a new state from prev state using the choosen move.\n",
    "2. game_winner - check if any of the two players won the game or was it a draw \n",
    "3. square_winner - to find row,col,diagonal of 4. game_winner uses this function to find the winner in a particular state\n",
    "4. reward - rewards returned by the enviroment when an action has been taken by the agent\n",
    "5. play_game - this function plays the game untill the episode ends.\n",
    "6. play_multiple_games - plays multiple episodes of the game and collect stats\n",
    "7. plot_both_players_rewards - plots average rewards per episode collected by both the agents\n",
    "8. plot_both_players_q_table_state_space - plots q table state spce explored by both the agents\n",
    "\n",
    "\"\"\"  \n",
    "class connect4_enviroment:\n",
    "    def __init__(self, player1, player2, exp1=1, exp2=1, tag1=1, tag2=2):\n",
    "\n",
    "        self.players = {1: player1(tag1, exploration_factor=exp1),\n",
    "                        2: player2(tag2, exploration_factor=exp2)}\n",
    "        self.state, self.winner, self.turn = np.zeros((6, 7)), None, 1        \n",
    "        \n",
    "        \n",
    "\n",
    "    def play_game(self):        \n",
    "        move_count = 0\n",
    "        \n",
    "        while self.winner is None:\n",
    "            # select the particular player\n",
    "            player = self.players[self.turn]\n",
    "            # save prev_state\n",
    "            prev_state=self.state\n",
    "            # player makes the move or the action\n",
    "            action = player.choose_move(prev_state, self.winner)\n",
    "            #move = self.play_move()            \n",
    "            #self.state = self.make_state_from_move(move) # creates a new state\n",
    "            \n",
    "            # note that self.state also contains the new_state\n",
    "            # enviroment reacts to action\n",
    "            new_state, reward = self.step(action) # this is equivalent to env.step(action in frozen lake example)\n",
    "            \n",
    "            player.update_qtable(prev_state,new_state,action,reward) # update qtable with help of prev_state ,new_State and reward\n",
    "            #self.rewards_current_episode += reward\n",
    "            self.next_player()\n",
    "            move_count += 1\n",
    "\n",
    "        return self.winner, move_count\n",
    "    \n",
    "    def step(self,action):        \n",
    "        self.state = self.make_state_from_move(action) # get new state\n",
    "        self.game_winner() # check winner on new state        \n",
    "        return self.state,self.reward(self.winner) # return newstate and reward according the current player's turn\n",
    "        \n",
    "       \n",
    "\n",
    "    def play_multiple_games(self, episodes,per_ep):\n",
    "        statistics = {1: 0, 2: 0, 0: 0, 'move_count': 0}\n",
    "        move_count_total = []\n",
    "        \n",
    "        for i in range(episodes): # while playing multiple games the players will switch turns\n",
    "            #print(\"*****EPISODE \", i+1, \"*****\\n\")            \n",
    "            winner, move_count = self.play_game() \n",
    "             \n",
    "            move_count_total.append(move_count)\n",
    "            statistics[winner] = statistics[winner] + 1\n",
    "            ## then both the players update there respective exploration factor and collect rewards\n",
    "            self.both_players_update_expNreward(i)\n",
    "            # reset the enivoment at the end of episode\n",
    "            self.reset()                       \n",
    "            #print(\"\\n*****END EPISODE *****\\n\")\n",
    "\n",
    "        statistics['move_count'] = np.mean(move_count_total)        \n",
    "        \n",
    "        self.plot_both_players_rewards(episodes,per_ep)        \n",
    "        return statistics\n",
    "    \n",
    "    \n",
    "    def both_players_update_expNreward(self,i): # i is the ith episode\n",
    "        self.players[1].update_exp_factor(i)\n",
    "        self.players[2].update_exp_factor(i)  \n",
    "    \n",
    "    def plot_game_stats(self,statistics): # episodes   \n",
    "        labels = ['player-1 wins', 'player-2 wins', 'Draws']\n",
    "        sizes = [statistics[1], statistics[2], statistics[0]]\n",
    "        fig1, ax1 = plt.subplots(figsize=(6,4))\n",
    "        ax1.set_title('Game stats')\n",
    "        for i in range(len(labels)):\n",
    "            ax1.text(i,sizes[i],str(sizes[i]),ha=\"center\",va=\"bottom\")\n",
    "        ax1.bar(labels,sizes)           \n",
    "        \n",
    "    def plot_both_players_q_table_state_space(self):\n",
    "        q_table_state_space_per_ep_player_1=self.players[1].get_q_table_state_space_per_ep()\n",
    "        q_table_state_space_per_ep_player_2=self.players[2].get_q_table_state_space_per_ep()\n",
    "        print(\"q_table state space explored by player-\",1 ,\" : \",q_table_state_space_per_ep_player_1[-1])        \n",
    "        print(\"__________________________________________________________________________\")\n",
    "        \n",
    "        print(\"q_table state space explored by player-\",2 ,\" : \",q_table_state_space_per_ep_player_2[-1])        \n",
    "        print(\"__________________________________________________________________________\")\n",
    "        \n",
    "        x1=np.arange(len(q_table_state_space_per_ep_player_1))+1\n",
    "        y1=q_table_state_space_per_ep_player_1\n",
    "        x2=np.arange(len(q_table_state_space_per_ep_player_2))+1\n",
    "        y2=q_table_state_space_per_ep_player_2           \n",
    "        \n",
    "        fig, (ax1, ax2) = plt.subplots(1, 2, figsize=(12,4))\n",
    "        #fig.suptitle('Horizontally stacked subplots')\n",
    "        ax1.plot(x1, y1, color='orange', linestyle='dashed',linewidth=2)\n",
    "        ax1.set_title(\"q_table_state_space explored by Player-1\")\n",
    "        ax2.plot(x2, y2, color='red', linestyle='dashed',linewidth=2)\n",
    "        ax2.set_title(\"q_table_state_space explored by Player-2\")\n",
    "        \n",
    "        \n",
    "        \n",
    "    def plot_both_players_rewards(self,episodes,per_ep):\n",
    "        x1,y1=self.players[1].get_the_average_rewards_as_x_y(per_ep,episodes)\n",
    "        x2,y2=self.players[2].get_the_average_rewards_as_x_y(per_ep,episodes)\n",
    "        fig, (ax1, ax2) = plt.subplots(1, 2, figsize=(12,4))\n",
    "        #fig.suptitle('Horizontally stacked subplots')\n",
    "        ax1.plot(x1, y1, color='orange', marker='o', linestyle='dashed',linewidth=2, markersize=4)\n",
    "        ax1.set_title(\"Average Rewards per \"+str(per_ep)+\" episodes Player-1\")\n",
    "        ax2.plot(x2, y2, color='red', marker=\"s\", linestyle='dashed',linewidth=2, markersize=4)\n",
    "        ax2.set_title(\"Average Rewards per \"+str(per_ep)+\" episodes Player-2\")\n",
    "\n",
    "    \n",
    "    def make_state_from_move(self, move): # equivalent to env.step(action) \n",
    "        if move is None:\n",
    "            return self.state\n",
    "\n",
    "        state = np.array(self.state)\n",
    "        if self.turn == 1:\n",
    "            tag = 1\n",
    "        else:\n",
    "            tag = -1\n",
    "\n",
    "        #if len(np.where(state[:, move] == 0)[0]) == 0:\n",
    "            #print(state)\n",
    "        idy = np.where(state[:, move] == 0)[0][-1]\n",
    "        state = np.array(state)\n",
    "        state[idy, move] = tag        \n",
    "        \n",
    "        #print(self.winner)\n",
    "        return state\n",
    "\n",
    "    def reward(self, winner):\n",
    "        if winner is self.turn: # self.tag from RLAgent is changed to self.tirn in here\n",
    "            reward = 100\n",
    "        elif winner is None:\n",
    "            reward = 0\n",
    "        elif winner == 0:\n",
    "            reward = 50\n",
    "        else:\n",
    "            reward = -100\n",
    "        #print(winner,\"  \",reward)\n",
    "        return reward\n",
    "\n",
    "    def next_player(self): # switches the turns\n",
    "        if self.turn == 1:\n",
    "            self.turn = 2\n",
    "        else:\n",
    "            self.turn = 1\n",
    "\n",
    "    def game_winner(self):        \n",
    "        rows=len(self.state[:,0])\n",
    "        cols=len(self.state[0, :])\n",
    "        done = False \n",
    "        for i in range(rows-3):\n",
    "            for j in range(cols-3):\n",
    "                # find row of 4   \n",
    "                self.winner=self.square_winner(self.state[i:i+4, j:j+4])\n",
    "                if self.winner is not None:\n",
    "                    #print('Winner is: Player-', self.winner)\n",
    "                    #self.print_game()\n",
    "                    done = True \n",
    "                    break\n",
    "            if done: \n",
    "                break        \n",
    "\n",
    "\n",
    "        if np.min(np.abs(self.state[0, :])) != 0:\n",
    "            self.winner = 0\n",
    "            #print('***********************No winner*******************************************************')\n",
    "        #self.print_game()\n",
    "        \n",
    "\n",
    "    def square_winner(self, square):        \n",
    "        s = np.append([np.sum(square, axis=0), np.sum(square, axis=1).T],\n",
    "                      [np.trace(square), np.flip(square,axis=1).trace()])\n",
    "        winner = None\n",
    "        if np.max(s) == 4:\n",
    "            winner = 1\n",
    "        elif np.min(s) == -4:\n",
    "            winner = 2        \n",
    "           \n",
    "        return winner\n",
    "\n",
    "    def print_game(self):\n",
    "        print(self.state)        \n",
    "    \n",
    "    def reset(self):\n",
    "        self.state, self.winner, self.turn = np.zeros((6, 7)), None, 1\n",
    "        return self.state\n",
    "      \n"
   ]
  },
  {
   "cell_type": "markdown",
   "metadata": {
    "slideshow": {
     "slide_type": "slide"
    }
   },
   "source": [
    "##### Ausgänge bei geringer Anzahl von Episoden\n",
    "Hinweis : Untere Schranke für den Zustandsraum : 16.000.000.000.000 (<a href=\"https://web.stanford.edu/class/aa228/reports/2019/final106.pdf\">gemäß dieser Forschungsarbeit</a>)"
   ]
  },
  {
   "cell_type": "code",
   "execution_count": 80,
   "metadata": {
    "slideshow": {
     "slide_type": "slide"
    }
   },
   "outputs": [
    {
     "data": {
      "image/png": "[encoded data removed]",
      "text/plain": [
       "<Figure size 864x288 with 2 Axes>"
      ]
     },
     "metadata": {
      "needs_background": "light"
     },
     "output_type": "display_data"
    }
   ],
   "source": [
    "env1= connect4_enviroment(RL_Agent,RL_Agent)\n",
    "env1_stats=env1.play_multiple_games(episodes=500,per_ep=10)"
   ]
  },
  {
   "cell_type": "code",
   "execution_count": 81,
   "metadata": {
    "slideshow": {
     "slide_type": "slide"
    }
   },
   "outputs": [
    {
     "data": {
      "image/png": "[encoded data removed]",
      "text/plain": [
       "<Figure size 432x288 with 1 Axes>"
      ]
     },
     "metadata": {
      "needs_background": "light"
     },
     "output_type": "display_data"
    }
   ],
   "source": [
    "env1.plot_game_stats(env1_stats)"
   ]
  },
  {
   "cell_type": "code",
   "execution_count": 82,
   "metadata": {
    "slideshow": {
     "slide_type": "slide"
    }
   },
   "outputs": [
    {
     "name": "stdout",
     "output_type": "stream",
     "text": [
      "q_table state space explored by player- 1  :  8114\n",
      "__________________________________________________________________________\n",
      "q_table state space explored by player- 2  :  8039\n",
      "__________________________________________________________________________\n"
     ]
    },
    {
     "data": {
      "image/png": "[encoded data removed]",
      "text/plain": [
       "<Figure size 864x288 with 2 Axes>"
      ]
     },
     "metadata": {
      "needs_background": "light"
     },
     "output_type": "display_data"
    }
   ],
   "source": [
    "env1.plot_both_players_q_table_state_space()"
   ]
  },
  {
   "cell_type": "markdown",
   "metadata": {
    "slideshow": {
     "slide_type": "slide"
    }
   },
   "source": [
    "##### Ausgänge bei hoher Anzahl von Episoden (50000 episodes)"
   ]
  },
  {
   "cell_type": "code",
   "execution_count": null,
   "metadata": {
    "slideshow": {
     "slide_type": "skip"
    }
   },
   "outputs": [],
   "source": [
    "#env1= connect4_enviroment(RL_Agent,RL_Agent)\n",
    "#env1_stats=env1.play_multiple_games(episodes=50000,per_ep=1000)"
   ]
  },
  {
   "cell_type": "code",
   "execution_count": null,
   "metadata": {
    "slideshow": {
     "slide_type": "skip"
    }
   },
   "outputs": [],
   "source": [
    "#env1.plot_game_stats(env1_stats)"
   ]
  },
  {
   "cell_type": "code",
   "execution_count": null,
   "metadata": {
    "slideshow": {
     "slide_type": "skip"
    }
   },
   "outputs": [],
   "source": [
    "#env1.plot_both_players_q_table_state_space()"
   ]
  },
  {
   "cell_type": "markdown",
   "metadata": {
    "slideshow": {
     "slide_type": "slide"
    }
   },
   "source": [
    "q_table state space explored by player- 1 for 50000 episodes :  486684\n",
    "__________________________________________________________________________\n",
    "q_table state space explored by player- 2 for 50000 episodes :  484405\n",
    "__________________________________________________________________________"
   ]
  },
  {
   "cell_type": "markdown",
   "metadata": {
    "slideshow": {
     "slide_type": "slide"
    }
   },
   "source": [
    "<center><img src=\"avg-rewards.png\" alt=\"Image of RL Agents\" width=\"800\"/></center>"
   ]
  },
  {
   "cell_type": "markdown",
   "metadata": {
    "slideshow": {
     "slide_type": "slide"
    }
   },
   "source": [
    "<center><img src=\"game stats.png\" alt=\"Image of RL Agents\" width=\"400\"/></center>"
   ]
  },
  {
   "cell_type": "markdown",
   "metadata": {
    "slideshow": {
     "slide_type": "slide"
    }
   },
   "source": [
    "<center><img src=\"q_table_state_space.png\" alt=\"Image of RL Agents\" width=\"800\"/></center>"
   ]
  },
  {
   "cell_type": "markdown",
   "metadata": {
    "slideshow": {
     "slide_type": "skip"
    }
   },
   "source": [
    "### Ansatz 1 mit einer Million Durchgänge:"
   ]
  },
  {
   "cell_type": "code",
   "execution_count": 31,
   "metadata": {
    "slideshow": {
     "slide_type": "skip"
    }
   },
   "outputs": [
    {
     "name": "stdout",
     "output_type": "stream",
     "text": [
      "q_table state space explored by player- 1  :  6277507\n",
      "__________________________________________________________________________\n",
      "q_table state space explored by player- 2  :  6254126\n",
      "__________________________________________________________________________\n"
     ]
    },
    {
     "data": {
      "image/png": "[encoded data removed]",
      "text/plain": [
       "<Figure size 864x288 with 2 Axes>"
      ]
     },
     "metadata": {
      "needs_background": "light"
     },
     "output_type": "display_data"
    },
    {
     "data": {
      "image/png": "[encoded data removed]",
      "text/plain": [
       "<Figure size 432x288 with 1 Axes>"
      ]
     },
     "metadata": {
      "needs_background": "light"
     },
     "output_type": "display_data"
    },
    {
     "data": {
      "image/png": "[encoded data removed]",
      "text/plain": [
       "<Figure size 864x288 with 2 Axes>"
      ]
     },
     "metadata": {
      "needs_background": "light"
     },
     "output_type": "display_data"
    }
   ],
   "source": [
    "env1= connect4_enviroment(RL_Agent,RL_Agent)\n",
    "env1_stats=env1.play_multiple_games(episodes=1000000,per_ep=10000)\n",
    "env1.plot_game_stats(env1_stats)\n",
    "env1.plot_both_players_q_table_state_space()"
   ]
  },
  {
   "cell_type": "markdown",
   "metadata": {
    "slideshow": {
     "slide_type": "skip"
    }
   },
   "source": [
    "***Hinweis : Für verschiedene Ansätze mussten wir die Umgebungen und Agenten entsprechend konfigurieren.***"
   ]
  },
  {
   "cell_type": "markdown",
   "metadata": {
    "slideshow": {
     "slide_type": "slide"
    }
   },
   "source": [
    "## ***Q-Learning mit E-Greedy***\n",
    "***Ansatz 2***<br>\n",
    "in unserem zweiten Ansatz haben wir die Epsilon-Greedy Methode verwendet, um ein Gleichgewicht zwischen Exploration und Exploitation herzustellen, indem zufällig zwischen Exploration und Exploitation gewählt wird."
   ]
  },
  {
   "cell_type": "markdown",
   "metadata": {
    "slideshow": {
     "slide_type": "subslide"
    }
   },
   "source": [
    "<center><img src=\"https://media.geeksforgeeks.org/wp-content/uploads/20200316215850/Screenshot-2020-03-16-at-9.58.10-PM.png\" alt=\"Image of RL Agents\" width=\"1000\" height=\"300\"/></center>"
   ]
  },
  {
   "cell_type": "markdown",
   "metadata": {
    "slideshow": {
     "slide_type": "subslide"
    }
   },
   "source": [
    "<center><img src=\"https://media.geeksforgeeks.org/wp-content/uploads/20200318200401/Screenshot-2020-03-18-at-8.03.38-PM.png\" alt=\"Image of RL Agents\" width=\"1000\" height=\"300\"/></center>"
   ]
  },
  {
   "cell_type": "markdown",
   "metadata": {
    "slideshow": {
     "slide_type": "subslide"
    }
   },
   "source": [
    "<center><img src=\"https://www.baeldung.com/wp-content/uploads/sites/4/2020/12/q-learning-epsilon-greedy-1.png\" alt=\"Image of E-Greedy theory\" width=\"400\" align=\"center\"/></center>"
   ]
  },
  {
   "cell_type": "markdown",
   "metadata": {
    "slideshow": {
     "slide_type": "slide"
    }
   },
   "source": [
    " # ***Ansatz 2*** \n",
    "\n",
    "Im folgenden werden die **wichtigsten Funktionen und Änderungen** zu Ansatz 1 gezeigt. (Die einzelnen Funktionen in einer Zelle brauchen **nicht** ausgeführt werden. Dafür bitte die **drei relevanten Klassen ausführen** (Agent + 2 Enviroment Klassen)!)"
   ]
  },
  {
   "cell_type": "code",
   "execution_count": 18,
   "metadata": {
    "slideshow": {
     "slide_type": "subslide"
    }
   },
   "outputs": [],
   "source": [
    "\"\"\"\n",
    "Creates an epsilon-greedy policy based\n",
    "on a given Q-function and epsilon.\n",
    "\n",
    "Returns a function that takes the state\n",
    "as an input and returns the probabilities\n",
    "for each action in the form of a numpy array \n",
    "of length of the action space(set of possible actions).\n",
    "\"\"\"   \n",
    "def createEpsilonGreedyPolicy(self, Q, epsilon, num_actions):\n",
    "\n",
    "    def policyFunction(state):\n",
    "\n",
    "        Action_probabilities = np.ones(num_actions) * epsilon / num_actions\n",
    "\n",
    "        best_action = np.argmax(self.Q[state])\n",
    "        Action_probabilities[best_action] += (1.0 - epsilon)\n",
    "        return Action_probabilities\n",
    "\n",
    "    return policyFunction \n"
   ]
  },
  {
   "cell_type": "markdown",
   "metadata": {
    "slideshow": {
     "slide_type": "subslide"
    }
   },
   "source": [
    "**(mögliche) Policy Funktion als Standardverteilung:**\n",
    "<center><img src=\"distribution.png\" alt=\"Prohability Distribution\" width=\"400\"/></center>"
   ]
  },
  {
   "cell_type": "code",
   "execution_count": null,
   "metadata": {
    "slideshow": {
     "slide_type": "skip"
    }
   },
   "outputs": [],
   "source": [
    "\"\"\"\n",
    "Q-Learning algorithm: Off-policy TD control.\n",
    "Finds the optimal greedy policy while improving\n",
    "following an epsilon-greedy policy\n",
    "\"\"\"  \n",
    "def qLearning(self, Q, next_state, action, winner, discount_factor = 1.0,\n",
    "                            alpha = 0.6, epsilon = 0.1): \n",
    "\n",
    "    reward = self.reward(winner)\n",
    "\n",
    "    # Update statistics\n",
    "    #stats.episode_rewards[ith_episode] += reward\n",
    "    #stats.episode_lengths[ith_episode] = t\n",
    "\n",
    "    # TD Update\n",
    "    best_next_action = np.argmax(self.Q[next_state]) \n",
    "    #best_actions[best_next_action] = best_actions[best_next_action] + 1\n",
    "\n",
    "    self.Q[self.state][action] = ((1-alpha) * self.Q[self.state][action]) + (alpha * (reward + (discount_factor * self.Q[self.state][best_next_action]) - self.Q[next_state][action]))\n",
    "\n",
    "    self.state = next_state\n",
    "\n",
    "    return self.Q"
   ]
  },
  {
   "cell_type": "code",
   "execution_count": null,
   "metadata": {
    "slideshow": {
     "slide_type": "slide"
    }
   },
   "outputs": [],
   "source": [
    " \"\"\"\n",
    "Method to choose action according to the \n",
    "probability distribution from e greedy function.\n",
    "\n",
    "Returns the choosen action. \n",
    "\"\"\"\n",
    "def choose_move(self, state, winner):\n",
    "\n",
    "    action_probabilities = policy(state.tobytes())\n",
    "\n",
    "    self.action = np.random.choice(np.arange(len(action_probabilities)),p = action_probabilities)\n",
    "\n",
    "    avaMoves = np.where(state[0, :] == 0)[0]\n",
    "    while winner is None: \n",
    "        if self.action not in avaMoves:\n",
    "            self.action = np.random.choice(np.arange(\n",
    "                  len(action_probabilities)),\n",
    "                   p = action_probabilities)\n",
    "        else:\n",
    "            break\n",
    "\n",
    "    return self.action"
   ]
  },
  {
   "cell_type": "markdown",
   "metadata": {
    "slideshow": {
     "slide_type": "skip"
    }
   },
   "source": [
    "## RLAgent mit E-Greedy Policy"
   ]
  },
  {
   "cell_type": "code",
   "execution_count": 2,
   "metadata": {
    "slideshow": {
     "slide_type": "skip"
    }
   },
   "outputs": [],
   "source": [
    "import numpy as np\n",
    "import random\n",
    "import csv\n",
    "import os\n",
    "from collections import defaultdict\n",
    "\n",
    "\n",
    "class RLAgent:\n",
    "\n",
    "    def __init__(self, tag, epsilon=1):\n",
    "        self.tag = tag\n",
    "        self.epsilon = epsilon\n",
    "        self.prev_state = np.zeros((6, 7))\n",
    "        self.prev_move = -1\n",
    "        self.state = None\n",
    "        self.move = None\n",
    "        self.count_memory = 0\n",
    "        self.cache = []\n",
    "        self.Q = defaultdict(lambda: np.zeros(7))\n",
    "        self.alpha = 0.5\n",
    "        self.gamma = 1\n",
    "        self.policy = self.createEpsilonGreedyPolicy(self.Q, self.epsilon, 7)\n",
    "        self.rewards_all_episodes = []\n",
    "        \n",
    "    \n",
    "    \"\"\"\n",
    "    Creates an epsilon-greedy policy based\n",
    "    on a given Q-function and epsilon.\n",
    "\n",
    "    Returns a function that takes the state\n",
    "    as an input and returns the probabilities\n",
    "    for each action in the form of a numpy array \n",
    "    of length of the action space(set of possible actions).\n",
    "    \"\"\"     \n",
    "    def createEpsilonGreedyPolicy(self, Q, epsilon, num_actions):\n",
    "\n",
    "        def policyFunction(state):\n",
    "\n",
    "            Action_probabilities = np.ones(num_actions) * epsilon / num_actions\n",
    "\n",
    "            best_action = np.argmax(self.Q[state])\n",
    "            Action_probabilities[best_action] += (1.0 - epsilon)\n",
    "            return Action_probabilities\n",
    "\n",
    "        return policyFunction \n",
    "    \n",
    "    \"\"\"\n",
    "    Q-Learning algorithm: Off-policy TD control.\n",
    "    Finds the optimal greedy policy while improving\n",
    "    following an epsilon-greedy policy\n",
    "    \"\"\"  \n",
    "    def qLearning(self, next_state, action, winner, discount_factor = 1.0,\n",
    "                                alpha = 0.6, epsilon = 0.1): \n",
    "\n",
    "        reward = self.reward(winner)\n",
    "\n",
    "        # Update statistics\n",
    "        #stats.episode_rewards[ith_episode] += reward\n",
    "        #stats.episode_lengths[ith_episode] = t\n",
    "\n",
    "        # TD Update\n",
    "        best_next_action = np.argmax(self.Q[next_state]) \n",
    "        #best_actions[best_next_action] = best_actions[best_next_action] + 1\n",
    "\n",
    "        self.Q[self.state][action] = ((1-alpha) * self.Q[self.state][action]) + (alpha * (reward + (discount_factor * self.Q[self.state][best_next_action]) - self.Q[next_state][action]))\n",
    "\n",
    "        self.state = next_state\n",
    "\n",
    "        return self.Q\n",
    "    \n",
    "    \"\"\"\n",
    "    Method to choose action according to the \n",
    "    probability distribution from e greedy function.\n",
    "    \n",
    "    Returns the choosen action. \n",
    "    \"\"\"\n",
    "    def choose_move(self, state, winner):\n",
    "\n",
    "         # get probabilities of all actions from current state\n",
    "        action_probabilities = self.policy(state.tobytes())\n",
    "\n",
    "        # choose action according to \n",
    "        # the probability distribution\n",
    "        self.action = np.random.choice(np.arange(len(action_probabilities)),p = action_probabilities)\n",
    "        #actions[self.action] = actions[self.action] + 1\n",
    "\n",
    "        avaMoves = np.where(state[0, :] == 0)[0]\n",
    "        while winner is None: \n",
    "            if self.action not in avaMoves:\n",
    "                self.action = np.random.choice(np.arange(\n",
    "                      len(action_probabilities)),\n",
    "                       p = action_probabilities)\n",
    "            else:\n",
    "                break\n",
    "                    \n",
    "        return self.action\n",
    "\n",
    "    \"\"\"\n",
    "    Method to give rewards to the agent by the current winner. \n",
    "    In our first version we noticed that with a 0 reward the \n",
    "    q table is packed with more 0 values, so that with a 1-reward \n",
    "    for a standard move it is stored with very low value but not 0. \n",
    "    1 = no winner yet\n",
    "    50 = draw\n",
    "    100 = own win\n",
    "    -100 = opponents win\n",
    "    \n",
    "    Returns the reward as number between -100, 1, 50 or 100.\n",
    "    \"\"\"\n",
    "    def reward(self, winner):\n",
    "\n",
    "        if winner is self.tag:\n",
    "            reward = 100\n",
    "        elif winner is None:\n",
    "            reward = 1\n",
    "        elif winner == 0:\n",
    "            reward = 50\n",
    "        else:\n",
    "            reward = -100\n",
    "                \n",
    "        self.rewards_all_episodes.append(reward)\n",
    "        return reward\n",
    "\n",
    "    \"\"\"\n",
    "    Method to check the winner of the current state.\n",
    "    \n",
    "    Returns winner (1 - player one, 2 - player two, \n",
    "    0 - draw, none - no winner)\n",
    "    \"\"\"\n",
    "    def game_winner(self, state):\n",
    "        winner = None\n",
    "        for i in range(len(state[:,0])-3):\n",
    "            for j in range(len(state[0, :])-3):\n",
    "                winner = self.square_winner(state[i:i+4, j:j+4])\n",
    "                if winner is not None:\n",
    "                    # print('winner is:', self.winner)\n",
    "                    break\n",
    "            if winner is not None:\n",
    "                # print('winner is:', self.winner)\n",
    "                break\n",
    "\n",
    "        if np.min(np.abs(state[0, :])) != 0:\n",
    "            winner = 0\n",
    "            # print('no winner')\n",
    "\n",
    "        return winner\n",
    "\n",
    "    @staticmethod\n",
    "    def ava_moves(state):\n",
    "        moves = np.where(state[0, :] == 0)[0]\n",
    "        return moves\n",
    "    \n",
    "    \"\"\"\n",
    "    Method to check the winner of the current square \n",
    "    of the state (see \"game_winner\").\n",
    "    \n",
    "    Returns winner (1 - player one, 2 - player two,\n",
    "    0 - draw, none - no winner)\n",
    "    \"\"\"\n",
    "    def square_winner(square):\n",
    "        s = np.append([np.sum(square, axis=0), np.sum(square, axis=1).T],\n",
    "                      [np.trace(square), np.flip(square,axis=1).trace()])\n",
    "        if np.max(s) == 4:\n",
    "            winner = 1\n",
    "        elif np.min(s) == -4:\n",
    "            winner = 2\n",
    "        else:\n",
    "            winner = None\n",
    "        return winner\n",
    "\n",
    "    def get_the_average_rewards_as_x_y(self,per_ep,num_episodes):\n",
    "        # Calculate and print the average reward per per_ep episodes\n",
    "        rewards_per_thousand_episodes = np.split(np.array(self.rewards_all_episodes),num_episodes/per_ep)\n",
    "        count = per_ep      \n",
    "        x=np.arange(0,num_episodes,per_ep)+per_ep\n",
    "        y=[]\n",
    "        for r in rewards_per_thousand_episodes:\n",
    "            y.append(sum(r/per_ep))\n",
    "\n",
    "        return x,y\n",
    "    \n",
    "    \"\"\"\n",
    "    Method to create the new state by a new action/move.\n",
    "    \n",
    "    Returns new state (6x7 matrix)\n",
    "    \"\"\"\n",
    "    @staticmethod\n",
    "    def make_state_from_move(state, move, player):\n",
    "        if move is None:\n",
    "            return state\n",
    "\n",
    "        state = np.array(state)\n",
    "        if player == 1:\n",
    "            tag = 1\n",
    "        else:\n",
    "            tag = -1\n",
    "            \n",
    "        idy = np.where(state[:, move] == 0)[0][-1]\n",
    "        state = np.array(state)\n",
    "        state[idy, move] = tag\n",
    "\n",
    "        return state"
   ]
  },
  {
   "cell_type": "markdown",
   "metadata": {
    "slideshow": {
     "slide_type": "skip"
    }
   },
   "source": [
    "## Spielumgebung mit E-Greedy Policy Analyse\n",
    "\n",
    "Die folgenden Spielumgebungen sind in unserer zweiten Version leicht verändert worden. Der Grund sind Vereinfachungen von Methoden und angepasste Analyse für den E-Greedy Agenten."
   ]
  },
  {
   "cell_type": "code",
   "execution_count": 3,
   "metadata": {
    "slideshow": {
     "slide_type": "skip"
    }
   },
   "outputs": [],
   "source": [
    "#from agent_RL import *\n",
    "from abc import abstractmethod\n",
    "import matplotlib.pyplot as plt\n",
    "\n",
    "\n",
    "class GameEnviroment:\n",
    "\n",
    "    def __init__(self, player1, player2, exp1=1, exp2=1, tag1=1, tag2=2):\n",
    "\n",
    "        self.players = {1: player1(tag1, epsilon=exp1),\n",
    "                        2: player2(tag2, epsilon=exp2)}\n",
    "\n",
    "        self.state, self.winner, self.turn = self.init_game()\n",
    "        self.memory = {}\n",
    "        self.p1_wins = []\n",
    "        self.p2_wins = []\n",
    "        self.draws = []\n",
    "        self.p1_win = 0\n",
    "        self.p2_win = 0\n",
    "        self.draw = 0\n",
    "        self.episodes = 100\n",
    "\n",
    "    \"\"\"\n",
    "    Method of playing a game until someone wins.\n",
    "    \n",
    "    Returns winner (1 - player one, 2 - player two, 0 - draw) \n",
    "    and total number of actions/moves in this game\n",
    "    \"\"\"\n",
    "    def play_game(self):\n",
    "\n",
    "        move_count = 0\n",
    "        while self.winner is None:\n",
    "            self.game_winner()\n",
    "            move = self.play_move()\n",
    "\n",
    "            if self.winner is None:\n",
    "                self.state = self.make_state_from_move(move)\n",
    "            \n",
    "            self.next_player()\n",
    "            move_count += 1\n",
    "\n",
    "        # we have to call both methods again after somone wins to make sure every agent gets his rewards \n",
    "        self.play_move()\n",
    "        self.next_player()\n",
    "        #self.play_move()\n",
    "        #self.next_player()\n",
    "\n",
    "        return self.winner, move_count\n",
    "\n",
    "    \"\"\"\n",
    "    Method of playing one Move in a game. Alternating \n",
    "    between the player turns\n",
    "    \n",
    "    Returns the choosen move by a player\n",
    "    \"\"\"\n",
    "    def play_move(self):\n",
    "        player = self.players[self.turn]\n",
    "        move = player.choose_move(self.state, self.winner)\n",
    "        if isinstance(player, RLAgent):\n",
    "            player.qLearning(self.state.tobytes(), move, self.winner)\n",
    "        return move\n",
    "    \n",
    "    def printAdditionalStatistics(self):        \n",
    "        plt.ylabel('Game outcomes in %')\n",
    "        plt.xlabel('Game number')\n",
    "        plt.plot(range(episodes), self.draws, 'r-', label='Draw')\n",
    "        plt.plot(range(episodes), self.p1_wins, 'g-', label='Player 1 wins')\n",
    "        plt.plot(range(episodes), self.p2_wins, 'b-', label='Player 2 wins')\n",
    "        plt.legend(loc='best', shadow=True, fancybox=True, framealpha =0.7)\n",
    "        #plt.plot(count, best_actions, 'b-', label='Best next action')\n",
    "        plt.show()\n",
    "        \n",
    "        countQValues = 0\n",
    "        for key in self.players[1].Q: \n",
    "            Q = self.players[1].Q\n",
    "            # print(Q[key])\n",
    "            for i in Q[key]:\n",
    "                if i != 0.:\n",
    "                    countQValues += 1\n",
    "        \n",
    "        print(\"% of all actions used and associated states: \" + str((countQValues/(len(self.players[1].Q)*7))*100) + \"%\")\n",
    "    \n",
    "    \n",
    "    def plot_both_players_rewards(self,episodes,per_ep):\n",
    "        x1,y1=self.players[1].get_the_average_rewards_as_x_y(per_ep,episodes)\n",
    "        x2,y2=self.players[2].get_the_average_rewards_as_x_y(per_ep,episodes)\n",
    "        fig, (ax1, ax2) = plt.subplots(1, 2, figsize=(12,4))\n",
    "        #fig.suptitle('Horizontally stacked subplots')\n",
    "        ax1.plot(x1, y1, color='orange', marker='o', linestyle='dashed',linewidth=2, markersize=4)\n",
    "        ax1.set_title(\"Average Rewards per \"+str(per_ep)+\" episodes Player-1\")\n",
    "        ax2.plot(x2, y2, color='red', marker=\"s\", linestyle='dashed',linewidth=2, markersize=4)\n",
    "        ax2.set_title(\"Average Rewards per \"+str(per_ep)+\" episodes Player-2\")\n",
    "        \n",
    "        \n",
    "    \"\"\"\n",
    "    Method of playing multiple games according to the number \n",
    "    of the episodes specified.\n",
    "    \n",
    "    Returns the statistics of all games\n",
    "    \"\"\"\n",
    "    def play_multiple_games(self, episodes):\n",
    "        \n",
    "        q_counter = 0\n",
    "        statistics = {1: 0, 2: 0, 0: 0, 'move_count': 0}\n",
    "        move_count_total = []\n",
    "        for i in range(episodes):\n",
    "            self.episodes = i + 1\n",
    "            winner, move_count = self.play_game()\n",
    "            move_count_total.append(move_count)\n",
    "            statistics[winner] = statistics[winner] + 1\n",
    "\n",
    "            self.state, self.winner, self.turn = self.init_game()\n",
    "\n",
    "        #self.plot_both_players_rewards(episodes, episodes/10.0)\n",
    "        self.printAdditionalStatistics()\n",
    "        return statistics\n",
    "\n",
    "    @abstractmethod\n",
    "    def init_game(self):\n",
    "        pass\n",
    "\n",
    "    @abstractmethod\n",
    "    def make_state_from_move(self, move):\n",
    "        pass\n",
    "\n",
    "    @abstractmethod\n",
    "    def next_player(self):\n",
    "        pass\n",
    "\n",
    "    @abstractmethod\n",
    "    def game_winner(self):\n",
    "        pass\n",
    "\n",
    "    @abstractmethod\n",
    "    def print_game(self):\n",
    "        pass\n"
   ]
  },
  {
   "cell_type": "code",
   "execution_count": 4,
   "metadata": {
    "slideshow": {
     "slide_type": "skip"
    }
   },
   "outputs": [],
   "source": [
    "import numpy as np\n",
    "\n",
    "\n",
    "class ConnectFourEnviroment(GameEnviroment):\n",
    "\n",
    "    def __init__(self, player1, player2, exp1=1, exp2=1, tag1=1, tag2=2):\n",
    "        super().__init__(player1, player2, exp1, exp2, tag1, tag2)\n",
    "\n",
    "    def init_game(self):\n",
    "        return np.zeros((6, 7)), None, 1\n",
    "\n",
    "    def make_state_from_move(self, move):\n",
    "        if move is None:\n",
    "            return self.state\n",
    "\n",
    "        state = np.array(self.state)\n",
    "        if self.turn == 1:\n",
    "            tag = 1\n",
    "        else:\n",
    "            tag = -1\n",
    "\n",
    "        idy = np.where(state[:, move] == 0)[0][-1]\n",
    "        state = np.array(state)\n",
    "        state[idy, move] = tag\n",
    "        return state\n",
    "\n",
    "    def next_player(self):\n",
    "        if self.turn == 1:\n",
    "            self.turn = 2\n",
    "        else:\n",
    "            self.turn = 1\n",
    "\n",
    "    def game_winner(self):\n",
    "        self.print_game()\n",
    "        for i in range(len(self.state[:,0])-3):\n",
    "            for j in range(len(self.state[0, :])-3):\n",
    "                self.square_winner(self.state[i:i+4, j:j+4])\n",
    "                if self.winner is not None:\n",
    "                    #self.print_game()\n",
    "                    print('winner is:', self.winner)\n",
    "                    break\n",
    "            if self.winner is not None:\n",
    "                #self.print_game()\n",
    "                print('winner is:', self.winner)\n",
    "                break\n",
    "\n",
    "        if np.min(np.abs(self.state[0, :])) != 0:\n",
    "            self.winner = 0\n",
    "            self.draw += 1\n",
    "            \n",
    "            #self.print_game()\n",
    "            print('no winner')\n",
    "            \n",
    "        if self.winner is not None:\n",
    "            self.p1_wins.append(self.p1_win*100.0/self.episodes)\n",
    "            self.p2_wins.append(self.p2_win*100.0/self.episodes)\n",
    "            self.draws.append(self.draw*100.0/self.episodes)\n",
    "\n",
    "    def square_winner(self, square):\n",
    "        s = np.append([np.sum(square, axis=0), np.sum(square, axis=1).T],\n",
    "                      [np.trace(square), np.flip(square,axis=1).trace()])\n",
    "        if np.max(s) == 4:\n",
    "            self.winner = 1\n",
    "            self.p1_win += 1\n",
    "            \n",
    "        elif np.min(s) == -4:\n",
    "            self.winner = 2\n",
    "            self.p2_win += 1\n",
    "            \n",
    "        else:\n",
    "            self.winner = None\n",
    "        return self.winner\n",
    "\n",
    "    def print_game(self):\n",
    "\n",
    "        print('  --------------')\n",
    "        print(self.state)\n",
    "        print('  --------------')\n"
   ]
  },
  {
   "cell_type": "markdown",
   "metadata": {
    "slideshow": {
     "slide_type": "skip"
    }
   },
   "source": [
    "## Ausgaben des zweiten Ansatzes\n",
    "\n",
    "* In der Ausgabe wird einmal eine Darstellung der prozentualen Geweinnrate beider Spiele und der Unentschiedenen Spielen gezeigt. \n",
    "* Darunter wird jeweils ein **prozentualer Wert** angegeben, der den **Erforschungsgrad** jedes Zustandes bestimmt. Dieser Wert schaut wieviele Q Werte pro Zustand vorhanden sind, also wie **viele unterschiedliche Aktionen zum gleichen Zustand geführt haben**. Ein hoher Wert zeigt, dass die bekannten Zustände des Agenten mehrfach durchlaufen sind und der Agent unterschiedliche Herangehensweisen identifiziert hat. Bei kleinen Werten ist ein erfolgreiches Lernen quasi gar nicht vorhanden, da der Agent lediglich **pro Zustand eine Möglichkeit kennt zu diesem Zustand zu kommen** und somit keine Varianz im späteren Spielzug vorweisen kann. Damit ist der Agent sehr gut vorhersehbar, da er nicht alle möglichen Spielzüge kennt und immer den gleichen nehmen würde.  \n",
    "    * **untere Schranke**: Bei 7 möglichen Aktionen ist der **geringste Wert 14,28%**, da jeder erforschte Zustand mindestens durch eine Aktion ervorgerufen sein musste (also 1/7). Je höher der Wert, desto häufiger wurden Zustände durch andere Aktionen hervorgerufen. Bei 100% ist jeder Zustand durch alle 7 Aktionen erreicht worden (teilweise unmöglich zu erreichen, da der Gegenspieler ebenfalls Aktionen einnimmt)"
   ]
  },
  {
   "cell_type": "code",
   "execution_count": 133,
   "metadata": {
    "slideshow": {
     "slide_type": "subslide"
    }
   },
   "outputs": [
    {
     "data": {
      "image/png": "[encoded data removed]",
      "text/plain": [
       "<Figure size 432x288 with 1 Axes>"
      ]
     },
     "metadata": {
      "needs_background": "light"
     },
     "output_type": "display_data"
    },
    {
     "name": "stdout",
     "output_type": "stream",
     "text": [
      "% of all actions used and associated states: 14.761904761904763%\n"
     ]
    },
    {
     "data": {
      "text/plain": [
       "{1: 6, 2: 4, 0: 0, 'move_count': 0}"
      ]
     },
     "execution_count": 133,
     "metadata": {},
     "output_type": "execute_result"
    }
   ],
   "source": [
    "episodes = 10\n",
    "game = ConnectFourEnviroment(RLAgent, RLAgent, 0.8, 0.8)\n",
    "game.play_multiple_games(episodes)"
   ]
  },
  {
   "cell_type": "code",
   "execution_count": 145,
   "metadata": {
    "slideshow": {
     "slide_type": "subslide"
    }
   },
   "outputs": [
    {
     "data": {
      "image/png": "[encoded data removed]",
      "text/plain": [
       "<Figure size 432x288 with 1 Axes>"
      ]
     },
     "metadata": {
      "needs_background": "light"
     },
     "output_type": "display_data"
    },
    {
     "name": "stdout",
     "output_type": "stream",
     "text": [
      "% of all actions used and associated states: 15.073329712112981%\n"
     ]
    },
    {
     "data": {
      "text/plain": [
       "{1: 58, 2: 42, 0: 0, 'move_count': 0}"
      ]
     },
     "execution_count": 145,
     "metadata": {},
     "output_type": "execute_result"
    }
   ],
   "source": [
    "episodes = 100\n",
    "game = ConnectFourEnviroment(RLAgent, RLAgent, 0.8, 0.8)\n",
    "game.play_multiple_games(episodes)"
   ]
  },
  {
   "cell_type": "code",
   "execution_count": 143,
   "metadata": {
    "slideshow": {
     "slide_type": "subslide"
    }
   },
   "outputs": [
    {
     "data": {
      "image/png": "[encoded data removed]",
      "text/plain": [
       "<Figure size 432x288 with 1 Axes>"
      ]
     },
     "metadata": {
      "needs_background": "light"
     },
     "output_type": "display_data"
    },
    {
     "name": "stdout",
     "output_type": "stream",
     "text": [
      "% of all actions used and associated states: 15.207945375543142%\n"
     ]
    },
    {
     "data": {
      "text/plain": [
       "{1: 578, 2: 421, 0: 1, 'move_count': 0}"
      ]
     },
     "execution_count": 143,
     "metadata": {},
     "output_type": "execute_result"
    }
   ],
   "source": [
    "episodes = 1000\n",
    "game = ConnectFourEnviroment(RLAgent, RLAgent, 0.8, 0.8)\n",
    "game.play_multiple_games(episodes)"
   ]
  },
  {
   "cell_type": "code",
   "execution_count": 138,
   "metadata": {
    "slideshow": {
     "slide_type": "subslide"
    }
   },
   "outputs": [
    {
     "data": {
      "image/png": "[encoded data removed]",
      "text/plain": [
       "<Figure size 432x288 with 1 Axes>"
      ]
     },
     "metadata": {
      "needs_background": "light"
     },
     "output_type": "display_data"
    },
    {
     "name": "stdout",
     "output_type": "stream",
     "text": [
      "% of all actions used and associated states: 15.497381036931818%\n"
     ]
    },
    {
     "data": {
      "text/plain": [
       "{1: 5497, 2: 4466, 0: 37, 'move_count': 0}"
      ]
     },
     "execution_count": 138,
     "metadata": {},
     "output_type": "execute_result"
    }
   ],
   "source": [
    "episodes = 10000\n",
    "game = ConnectFourEnviroment(RLAgent, RLAgent, 0.8, 0.8)\n",
    "game.play_multiple_games(episodes)"
   ]
  },
  {
   "cell_type": "code",
   "execution_count": 139,
   "metadata": {
    "slideshow": {
     "slide_type": "subslide"
    }
   },
   "outputs": [
    {
     "data": {
      "image/png": "[encoded data removed]",
      "text/plain": [
       "<Figure size 432x288 with 1 Axes>"
      ]
     },
     "metadata": {
      "needs_background": "light"
     },
     "output_type": "display_data"
    },
    {
     "name": "stdout",
     "output_type": "stream",
     "text": [
      "% of all actions used and associated states: 15.804506236268775%\n"
     ]
    },
    {
     "data": {
      "text/plain": [
       "{1: 55313, 2: 44314, 0: 373, 'move_count': 0}"
      ]
     },
     "execution_count": 139,
     "metadata": {},
     "output_type": "execute_result"
    }
   ],
   "source": [
    "episodes = 100000\n",
    "game = ConnectFourEnviroment(RLAgent, RLAgent, 0.8, 0.8)\n",
    "game.play_multiple_games(episodes)"
   ]
  },
  {
   "cell_type": "markdown",
   "metadata": {
    "slideshow": {
     "slide_type": "subslide"
    }
   },
   "source": [
    "### Live Demo:"
   ]
  },
  {
   "cell_type": "code",
   "execution_count": 27,
   "metadata": {
    "slideshow": {
     "slide_type": "fragment"
    }
   },
   "outputs": [
    {
     "name": "stdout",
     "output_type": "stream",
     "text": [
      "  --------------\n",
      "[[0. 0. 0. 0. 0. 0. 0.]\n",
      " [0. 0. 0. 0. 0. 0. 0.]\n",
      " [0. 0. 0. 0. 0. 0. 0.]\n",
      " [0. 0. 0. 0. 0. 0. 0.]\n",
      " [0. 0. 0. 0. 0. 0. 0.]\n",
      " [0. 0. 0. 0. 0. 0. 0.]]\n",
      "  --------------\n",
      "  --------------\n",
      "[[0. 0. 0. 0. 0. 0. 0.]\n",
      " [0. 0. 0. 0. 0. 0. 0.]\n",
      " [0. 0. 0. 0. 0. 0. 0.]\n",
      " [0. 0. 0. 0. 0. 0. 0.]\n",
      " [0. 0. 0. 0. 0. 0. 0.]\n",
      " [0. 0. 0. 0. 0. 0. 1.]]\n",
      "  --------------\n",
      "  --------------\n",
      "[[ 0.  0.  0.  0.  0.  0.  0.]\n",
      " [ 0.  0.  0.  0.  0.  0.  0.]\n",
      " [ 0.  0.  0.  0.  0.  0.  0.]\n",
      " [ 0.  0.  0.  0.  0.  0.  0.]\n",
      " [ 0.  0.  0.  0.  0.  0.  0.]\n",
      " [ 0.  0. -1.  0.  0.  0.  1.]]\n",
      "  --------------\n",
      "  --------------\n",
      "[[ 0.  0.  0.  0.  0.  0.  0.]\n",
      " [ 0.  0.  0.  0.  0.  0.  0.]\n",
      " [ 0.  0.  0.  0.  0.  0.  0.]\n",
      " [ 0.  0.  0.  0.  0.  0.  0.]\n",
      " [ 0.  0.  0.  0.  0.  0.  0.]\n",
      " [ 1.  0. -1.  0.  0.  0.  1.]]\n",
      "  --------------\n",
      "  --------------\n",
      "[[ 0.  0.  0.  0.  0.  0.  0.]\n",
      " [ 0.  0.  0.  0.  0.  0.  0.]\n",
      " [ 0.  0.  0.  0.  0.  0.  0.]\n",
      " [ 0.  0.  0.  0.  0.  0.  0.]\n",
      " [-1.  0.  0.  0.  0.  0.  0.]\n",
      " [ 1.  0. -1.  0.  0.  0.  1.]]\n",
      "  --------------\n",
      "  --------------\n",
      "[[ 0.  0.  0.  0.  0.  0.  0.]\n",
      " [ 0.  0.  0.  0.  0.  0.  0.]\n",
      " [ 0.  0.  0.  0.  0.  0.  0.]\n",
      " [ 0.  0.  0.  0.  0.  0.  0.]\n",
      " [-1.  0.  0.  0.  0.  0.  1.]\n",
      " [ 1.  0. -1.  0.  0.  0.  1.]]\n",
      "  --------------\n",
      "  --------------\n",
      "[[ 0.  0.  0.  0.  0.  0.  0.]\n",
      " [ 0.  0.  0.  0.  0.  0.  0.]\n",
      " [ 0.  0.  0.  0.  0.  0.  0.]\n",
      " [-1.  0.  0.  0.  0.  0.  0.]\n",
      " [-1.  0.  0.  0.  0.  0.  1.]\n",
      " [ 1.  0. -1.  0.  0.  0.  1.]]\n",
      "  --------------\n",
      "  --------------\n",
      "[[ 0.  0.  0.  0.  0.  0.  0.]\n",
      " [ 0.  0.  0.  0.  0.  0.  0.]\n",
      " [ 0.  0.  0.  0.  0.  0.  0.]\n",
      " [-1.  0.  0.  0.  0.  0.  0.]\n",
      " [-1.  0.  0.  0.  0.  0.  1.]\n",
      " [ 1.  0. -1.  0.  0.  1.  1.]]\n",
      "  --------------\n",
      "  --------------\n",
      "[[ 0.  0.  0.  0.  0.  0.  0.]\n",
      " [ 0.  0.  0.  0.  0.  0.  0.]\n",
      " [ 0.  0.  0.  0.  0.  0.  0.]\n",
      " [-1.  0.  0.  0.  0.  0.  0.]\n",
      " [-1.  0.  0.  0.  0.  0.  1.]\n",
      " [ 1. -1. -1.  0.  0.  1.  1.]]\n",
      "  --------------\n",
      "  --------------\n",
      "[[ 0.  0.  0.  0.  0.  0.  0.]\n",
      " [ 0.  0.  0.  0.  0.  0.  0.]\n",
      " [ 0.  0.  0.  0.  0.  0.  0.]\n",
      " [-1.  0.  0.  0.  0.  0.  0.]\n",
      " [-1.  0.  0.  0.  0.  0.  1.]\n",
      " [ 1. -1. -1.  0.  1.  1.  1.]]\n",
      "  --------------\n",
      "  --------------\n",
      "[[ 0.  0.  0.  0.  0.  0.  0.]\n",
      " [ 0.  0.  0.  0.  0.  0.  0.]\n",
      " [ 0.  0.  0.  0.  0.  0.  0.]\n",
      " [-1.  0.  0.  0.  0.  0.  0.]\n",
      " [-1.  0.  0.  0.  0. -1.  1.]\n",
      " [ 1. -1. -1.  0.  1.  1.  1.]]\n",
      "  --------------\n",
      "  --------------\n",
      "[[ 0.  0.  0.  0.  0.  0.  0.]\n",
      " [ 0.  0.  0.  0.  0.  0.  0.]\n",
      " [ 0.  0.  0.  0.  0.  0.  0.]\n",
      " [-1.  0.  0.  0.  0.  0.  0.]\n",
      " [-1.  0.  0.  0.  1. -1.  1.]\n",
      " [ 1. -1. -1.  0.  1.  1.  1.]]\n",
      "  --------------\n",
      "  --------------\n",
      "[[ 0.  0.  0.  0.  0.  0.  0.]\n",
      " [ 0.  0.  0.  0.  0.  0.  0.]\n",
      " [ 0.  0.  0.  0.  0.  0.  0.]\n",
      " [-1.  0.  0.  0. -1.  0.  0.]\n",
      " [-1.  0.  0.  0.  1. -1.  1.]\n",
      " [ 1. -1. -1.  0.  1.  1.  1.]]\n",
      "  --------------\n",
      "  --------------\n",
      "[[ 0.  0.  0.  0.  0.  0.  0.]\n",
      " [ 0.  0.  0.  0.  0.  0.  0.]\n",
      " [ 0.  0.  0.  0.  0.  0.  0.]\n",
      " [-1.  0.  0.  0. -1.  0.  0.]\n",
      " [-1.  1.  0.  0.  1. -1.  1.]\n",
      " [ 1. -1. -1.  0.  1.  1.  1.]]\n",
      "  --------------\n",
      "  --------------\n",
      "[[ 0.  0.  0.  0.  0.  0.  0.]\n",
      " [ 0.  0.  0.  0.  0.  0.  0.]\n",
      " [ 0.  0.  0.  0.  0.  0.  0.]\n",
      " [-1.  0.  0.  0. -1.  0.  0.]\n",
      " [-1.  1.  0.  0.  1. -1.  1.]\n",
      " [ 1. -1. -1. -1.  1.  1.  1.]]\n",
      "  --------------\n",
      "  --------------\n",
      "[[ 0.  0.  0.  0.  0.  0.  0.]\n",
      " [ 0.  0.  0.  0.  0.  0.  0.]\n",
      " [ 0.  0.  0.  0.  1.  0.  0.]\n",
      " [-1.  0.  0.  0. -1.  0.  0.]\n",
      " [-1.  1.  0.  0.  1. -1.  1.]\n",
      " [ 1. -1. -1. -1.  1.  1.  1.]]\n",
      "  --------------\n",
      "  --------------\n",
      "[[ 0.  0.  0.  0.  0.  0.  0.]\n",
      " [ 0.  0.  0.  0.  0.  0.  0.]\n",
      " [ 0.  0.  0.  0.  1.  0.  0.]\n",
      " [-1.  0.  0.  0. -1.  0.  0.]\n",
      " [-1.  1. -1.  0.  1. -1.  1.]\n",
      " [ 1. -1. -1. -1.  1.  1.  1.]]\n",
      "  --------------\n",
      "  --------------\n",
      "[[ 0.  0.  0.  0.  0.  0.  0.]\n",
      " [ 0.  0.  0.  0.  0.  0.  0.]\n",
      " [ 1.  0.  0.  0.  1.  0.  0.]\n",
      " [-1.  0.  0.  0. -1.  0.  0.]\n",
      " [-1.  1. -1.  0.  1. -1.  1.]\n",
      " [ 1. -1. -1. -1.  1.  1.  1.]]\n",
      "  --------------\n",
      "  --------------\n",
      "[[ 0.  0.  0.  0.  0.  0.  0.]\n",
      " [ 0.  0.  0.  0.  0.  0.  0.]\n",
      " [ 1.  0.  0.  0.  1.  0.  0.]\n",
      " [-1. -1.  0.  0. -1.  0.  0.]\n",
      " [-1.  1. -1.  0.  1. -1.  1.]\n",
      " [ 1. -1. -1. -1.  1.  1.  1.]]\n",
      "  --------------\n",
      "  --------------\n",
      "[[ 0.  0.  0.  0.  0.  0.  0.]\n",
      " [ 0.  0.  0.  0.  0.  0.  0.]\n",
      " [ 1.  1.  0.  0.  1.  0.  0.]\n",
      " [-1. -1.  0.  0. -1.  0.  0.]\n",
      " [-1.  1. -1.  0.  1. -1.  1.]\n",
      " [ 1. -1. -1. -1.  1.  1.  1.]]\n",
      "  --------------\n",
      "  --------------\n",
      "[[ 0.  0.  0.  0.  0.  0.  0.]\n",
      " [ 0.  0.  0.  0.  0.  0.  0.]\n",
      " [ 1.  1.  0.  0.  1.  0.  0.]\n",
      " [-1. -1.  0.  0. -1.  0. -1.]\n",
      " [-1.  1. -1.  0.  1. -1.  1.]\n",
      " [ 1. -1. -1. -1.  1.  1.  1.]]\n",
      "  --------------\n",
      "  --------------\n",
      "[[ 0.  0.  0.  0.  0.  0.  0.]\n",
      " [ 0.  0.  0.  0.  0.  0.  0.]\n",
      " [ 1.  1.  0.  0.  1.  0.  0.]\n",
      " [-1. -1.  1.  0. -1.  0. -1.]\n",
      " [-1.  1. -1.  0.  1. -1.  1.]\n",
      " [ 1. -1. -1. -1.  1.  1.  1.]]\n",
      "  --------------\n",
      "  --------------\n",
      "[[ 0.  0.  0.  0.  0.  0.  0.]\n",
      " [-1.  0.  0.  0.  0.  0.  0.]\n",
      " [ 1.  1.  0.  0.  1.  0.  0.]\n",
      " [-1. -1.  1.  0. -1.  0. -1.]\n",
      " [-1.  1. -1.  0.  1. -1.  1.]\n",
      " [ 1. -1. -1. -1.  1.  1.  1.]]\n",
      "  --------------\n",
      "  --------------\n",
      "[[ 0.  0.  0.  0.  0.  0.  0.]\n",
      " [-1.  0.  0.  0.  1.  0.  0.]\n",
      " [ 1.  1.  0.  0.  1.  0.  0.]\n",
      " [-1. -1.  1.  0. -1.  0. -1.]\n",
      " [-1.  1. -1.  0.  1. -1.  1.]\n",
      " [ 1. -1. -1. -1.  1.  1.  1.]]\n",
      "  --------------\n",
      "  --------------\n",
      "[[ 0.  0.  0.  0.  0.  0.  0.]\n",
      " [-1.  0.  0.  0.  1.  0.  0.]\n",
      " [ 1.  1. -1.  0.  1.  0.  0.]\n",
      " [-1. -1.  1.  0. -1.  0. -1.]\n",
      " [-1.  1. -1.  0.  1. -1.  1.]\n",
      " [ 1. -1. -1. -1.  1.  1.  1.]]\n",
      "  --------------\n",
      "  --------------\n",
      "[[ 1.  0.  0.  0.  0.  0.  0.]\n",
      " [-1.  0.  0.  0.  1.  0.  0.]\n",
      " [ 1.  1. -1.  0.  1.  0.  0.]\n",
      " [-1. -1.  1.  0. -1.  0. -1.]\n",
      " [-1.  1. -1.  0.  1. -1.  1.]\n",
      " [ 1. -1. -1. -1.  1.  1.  1.]]\n",
      "  --------------\n",
      "  --------------\n",
      "[[ 1.  0.  0.  0. -1.  0.  0.]\n",
      " [-1.  0.  0.  0.  1.  0.  0.]\n",
      " [ 1.  1. -1.  0.  1.  0.  0.]\n",
      " [-1. -1.  1.  0. -1.  0. -1.]\n",
      " [-1.  1. -1.  0.  1. -1.  1.]\n",
      " [ 1. -1. -1. -1.  1.  1.  1.]]\n",
      "  --------------\n",
      "  --------------\n",
      "[[ 1.  0.  0.  0. -1.  0.  0.]\n",
      " [-1.  0.  1.  0.  1.  0.  0.]\n",
      " [ 1.  1. -1.  0.  1.  0.  0.]\n",
      " [-1. -1.  1.  0. -1.  0. -1.]\n",
      " [-1.  1. -1.  0.  1. -1.  1.]\n",
      " [ 1. -1. -1. -1.  1.  1.  1.]]\n",
      "  --------------\n",
      "  --------------\n",
      "[[ 1.  0.  0.  0. -1.  0.  0.]\n",
      " [-1.  0.  1.  0.  1.  0.  0.]\n",
      " [ 1.  1. -1.  0.  1.  0.  0.]\n",
      " [-1. -1.  1.  0. -1. -1. -1.]\n",
      " [-1.  1. -1.  0.  1. -1.  1.]\n",
      " [ 1. -1. -1. -1.  1.  1.  1.]]\n",
      "  --------------\n",
      "  --------------\n",
      "[[ 1.  0.  0.  0. -1.  0.  0.]\n",
      " [-1.  1.  1.  0.  1.  0.  0.]\n",
      " [ 1.  1. -1.  0.  1.  0.  0.]\n",
      " [-1. -1.  1.  0. -1. -1. -1.]\n",
      " [-1.  1. -1.  0.  1. -1.  1.]\n",
      " [ 1. -1. -1. -1.  1.  1.  1.]]\n",
      "  --------------\n",
      "  --------------\n",
      "[[ 1.  0.  0.  0. -1.  0.  0.]\n",
      " [-1.  1.  1.  0.  1.  0.  0.]\n",
      " [ 1.  1. -1.  0.  1.  0.  0.]\n",
      " [-1. -1.  1.  0. -1. -1. -1.]\n",
      " [-1.  1. -1. -1.  1. -1.  1.]\n",
      " [ 1. -1. -1. -1.  1.  1.  1.]]\n",
      "  --------------\n",
      "  --------------\n",
      "[[ 1.  0.  1.  0. -1.  0.  0.]\n",
      " [-1.  1.  1.  0.  1.  0.  0.]\n",
      " [ 1.  1. -1.  0.  1.  0.  0.]\n",
      " [-1. -1.  1.  0. -1. -1. -1.]\n",
      " [-1.  1. -1. -1.  1. -1.  1.]\n",
      " [ 1. -1. -1. -1.  1.  1.  1.]]\n",
      "  --------------\n",
      "  --------------\n",
      "[[ 1.  0.  1.  0. -1.  0.  0.]\n",
      " [-1.  1.  1.  0.  1.  0.  0.]\n",
      " [ 1.  1. -1.  0.  1. -1.  0.]\n",
      " [-1. -1.  1.  0. -1. -1. -1.]\n",
      " [-1.  1. -1. -1.  1. -1.  1.]\n",
      " [ 1. -1. -1. -1.  1.  1.  1.]]\n",
      "  --------------\n",
      "winner is: 2\n",
      "winner is: 2\n",
      "  --------------\n",
      "[[0. 0. 0. 0. 0. 0. 0.]\n",
      " [0. 0. 0. 0. 0. 0. 0.]\n",
      " [0. 0. 0. 0. 0. 0. 0.]\n",
      " [0. 0. 0. 0. 0. 0. 0.]\n",
      " [0. 0. 0. 0. 0. 0. 0.]\n",
      " [0. 0. 0. 0. 0. 0. 0.]]\n",
      "  --------------\n",
      "  --------------\n",
      "[[0. 0. 0. 0. 0. 0. 0.]\n",
      " [0. 0. 0. 0. 0. 0. 0.]\n",
      " [0. 0. 0. 0. 0. 0. 0.]\n",
      " [0. 0. 0. 0. 0. 0. 0.]\n",
      " [0. 0. 0. 0. 0. 0. 0.]\n",
      " [1. 0. 0. 0. 0. 0. 0.]]\n",
      "  --------------\n",
      "  --------------\n",
      "[[ 0.  0.  0.  0.  0.  0.  0.]\n",
      " [ 0.  0.  0.  0.  0.  0.  0.]\n",
      " [ 0.  0.  0.  0.  0.  0.  0.]\n",
      " [ 0.  0.  0.  0.  0.  0.  0.]\n",
      " [-1.  0.  0.  0.  0.  0.  0.]\n",
      " [ 1.  0.  0.  0.  0.  0.  0.]]\n",
      "  --------------\n",
      "  --------------\n",
      "[[ 0.  0.  0.  0.  0.  0.  0.]\n",
      " [ 0.  0.  0.  0.  0.  0.  0.]\n",
      " [ 0.  0.  0.  0.  0.  0.  0.]\n",
      " [ 0.  0.  0.  0.  0.  0.  0.]\n",
      " [-1.  0.  0.  0.  0.  0.  0.]\n",
      " [ 1.  0.  0.  1.  0.  0.  0.]]\n",
      "  --------------\n",
      "  --------------\n",
      "[[ 0.  0.  0.  0.  0.  0.  0.]\n",
      " [ 0.  0.  0.  0.  0.  0.  0.]\n",
      " [ 0.  0.  0.  0.  0.  0.  0.]\n",
      " [-1.  0.  0.  0.  0.  0.  0.]\n",
      " [-1.  0.  0.  0.  0.  0.  0.]\n",
      " [ 1.  0.  0.  1.  0.  0.  0.]]\n",
      "  --------------\n",
      "  --------------\n",
      "[[ 0.  0.  0.  0.  0.  0.  0.]\n",
      " [ 0.  0.  0.  0.  0.  0.  0.]\n",
      " [ 0.  0.  0.  0.  0.  0.  0.]\n",
      " [-1.  0.  0.  0.  0.  0.  0.]\n",
      " [-1.  0.  0.  0.  0.  0.  0.]\n",
      " [ 1.  0.  0.  1.  1.  0.  0.]]\n",
      "  --------------\n",
      "  --------------\n",
      "[[ 0.  0.  0.  0.  0.  0.  0.]\n",
      " [ 0.  0.  0.  0.  0.  0.  0.]\n",
      " [ 0.  0.  0.  0.  0.  0.  0.]\n",
      " [-1.  0.  0.  0.  0.  0.  0.]\n",
      " [-1.  0.  0.  0.  0.  0.  0.]\n",
      " [ 1.  0.  0.  1.  1. -1.  0.]]\n",
      "  --------------\n",
      "  --------------\n",
      "[[ 0.  0.  0.  0.  0.  0.  0.]\n",
      " [ 0.  0.  0.  0.  0.  0.  0.]\n",
      " [ 1.  0.  0.  0.  0.  0.  0.]\n",
      " [-1.  0.  0.  0.  0.  0.  0.]\n",
      " [-1.  0.  0.  0.  0.  0.  0.]\n",
      " [ 1.  0.  0.  1.  1. -1.  0.]]\n",
      "  --------------\n",
      "  --------------\n",
      "[[ 0.  0.  0.  0.  0.  0.  0.]\n",
      " [ 0.  0.  0.  0.  0.  0.  0.]\n",
      " [ 1.  0.  0.  0.  0.  0.  0.]\n",
      " [-1.  0.  0.  0.  0.  0.  0.]\n",
      " [-1.  0.  0.  0.  0.  0.  0.]\n",
      " [ 1.  0.  0.  1.  1. -1. -1.]]\n",
      "  --------------\n",
      "  --------------\n",
      "[[ 0.  0.  0.  0.  0.  0.  0.]\n",
      " [ 1.  0.  0.  0.  0.  0.  0.]\n",
      " [ 1.  0.  0.  0.  0.  0.  0.]\n",
      " [-1.  0.  0.  0.  0.  0.  0.]\n",
      " [-1.  0.  0.  0.  0.  0.  0.]\n",
      " [ 1.  0.  0.  1.  1. -1. -1.]]\n",
      "  --------------\n",
      "  --------------\n",
      "[[ 0.  0.  0.  0.  0.  0.  0.]\n",
      " [ 1.  0.  0.  0.  0.  0.  0.]\n",
      " [ 1.  0.  0.  0.  0.  0.  0.]\n",
      " [-1.  0.  0.  0.  0.  0.  0.]\n",
      " [-1.  0.  0.  0.  0.  0.  0.]\n",
      " [ 1. -1.  0.  1.  1. -1. -1.]]\n",
      "  --------------\n",
      "  --------------\n",
      "[[ 0.  0.  0.  0.  0.  0.  0.]\n",
      " [ 1.  0.  0.  0.  0.  0.  0.]\n",
      " [ 1.  0.  0.  0.  0.  0.  0.]\n",
      " [-1.  0.  0.  0.  0.  0.  0.]\n",
      " [-1.  0.  0.  1.  0.  0.  0.]\n",
      " [ 1. -1.  0.  1.  1. -1. -1.]]\n",
      "  --------------\n",
      "  --------------\n",
      "[[ 0.  0.  0.  0.  0.  0.  0.]\n",
      " [ 1.  0.  0.  0.  0.  0.  0.]\n",
      " [ 1.  0.  0.  0.  0.  0.  0.]\n",
      " [-1.  0.  0.  0.  0.  0.  0.]\n",
      " [-1.  0.  0.  1. -1.  0.  0.]\n",
      " [ 1. -1.  0.  1.  1. -1. -1.]]\n",
      "  --------------\n",
      "  --------------\n",
      "[[ 0.  0.  0.  0.  0.  0.  0.]\n",
      " [ 1.  0.  0.  0.  0.  0.  0.]\n",
      " [ 1.  0.  0.  0.  0.  0.  0.]\n",
      " [-1.  0.  0.  0.  0.  0.  0.]\n",
      " [-1.  0.  0.  1. -1.  0.  0.]\n",
      " [ 1. -1.  1.  1.  1. -1. -1.]]\n",
      "  --------------\n",
      "  --------------\n",
      "[[ 0.  0.  0.  0.  0.  0.  0.]\n",
      " [ 1.  0.  0.  0.  0.  0.  0.]\n",
      " [ 1.  0.  0.  0.  0.  0.  0.]\n",
      " [-1.  0.  0.  0.  0.  0.  0.]\n",
      " [-1. -1.  0.  1. -1.  0.  0.]\n",
      " [ 1. -1.  1.  1.  1. -1. -1.]]\n",
      "  --------------\n",
      "  --------------\n",
      "[[ 0.  0.  0.  0.  0.  0.  0.]\n",
      " [ 1.  0.  0.  0.  0.  0.  0.]\n",
      " [ 1.  0.  0.  0.  0.  0.  0.]\n",
      " [-1.  0.  0.  1.  0.  0.  0.]\n",
      " [-1. -1.  0.  1. -1.  0.  0.]\n",
      " [ 1. -1.  1.  1.  1. -1. -1.]]\n",
      "  --------------\n",
      "  --------------\n",
      "[[ 0.  0.  0.  0.  0.  0.  0.]\n",
      " [ 1.  0.  0.  0.  0.  0.  0.]\n",
      " [ 1.  0.  0.  0.  0.  0.  0.]\n",
      " [-1. -1.  0.  1.  0.  0.  0.]\n",
      " [-1. -1.  0.  1. -1.  0.  0.]\n",
      " [ 1. -1.  1.  1.  1. -1. -1.]]\n",
      "  --------------\n",
      "  --------------\n",
      "[[ 0.  0.  0.  0.  0.  0.  0.]\n",
      " [ 1.  0.  0.  0.  0.  0.  0.]\n",
      " [ 1.  0.  0.  1.  0.  0.  0.]\n",
      " [-1. -1.  0.  1.  0.  0.  0.]\n",
      " [-1. -1.  0.  1. -1.  0.  0.]\n",
      " [ 1. -1.  1.  1.  1. -1. -1.]]\n",
      "  --------------\n",
      "winner is: 1\n",
      "winner is: 1\n",
      "  --------------\n",
      "[[0. 0. 0. 0. 0. 0. 0.]\n",
      " [0. 0. 0. 0. 0. 0. 0.]\n",
      " [0. 0. 0. 0. 0. 0. 0.]\n",
      " [0. 0. 0. 0. 0. 0. 0.]\n",
      " [0. 0. 0. 0. 0. 0. 0.]\n",
      " [0. 0. 0. 0. 0. 0. 0.]]\n",
      "  --------------\n",
      "  --------------\n",
      "[[0. 0. 0. 0. 0. 0. 0.]\n",
      " [0. 0. 0. 0. 0. 0. 0.]\n",
      " [0. 0. 0. 0. 0. 0. 0.]\n",
      " [0. 0. 0. 0. 0. 0. 0.]\n",
      " [0. 0. 0. 0. 0. 0. 0.]\n",
      " [0. 0. 0. 0. 1. 0. 0.]]\n",
      "  --------------\n",
      "  --------------\n",
      "[[ 0.  0.  0.  0.  0.  0.  0.]\n",
      " [ 0.  0.  0.  0.  0.  0.  0.]\n",
      " [ 0.  0.  0.  0.  0.  0.  0.]\n",
      " [ 0.  0.  0.  0.  0.  0.  0.]\n",
      " [ 0.  0.  0.  0.  0.  0.  0.]\n",
      " [-1.  0.  0.  0.  1.  0.  0.]]\n",
      "  --------------\n",
      "  --------------\n",
      "[[ 0.  0.  0.  0.  0.  0.  0.]\n",
      " [ 0.  0.  0.  0.  0.  0.  0.]\n",
      " [ 0.  0.  0.  0.  0.  0.  0.]\n",
      " [ 0.  0.  0.  0.  0.  0.  0.]\n",
      " [ 1.  0.  0.  0.  0.  0.  0.]\n",
      " [-1.  0.  0.  0.  1.  0.  0.]]\n",
      "  --------------\n",
      "  --------------\n",
      "[[ 0.  0.  0.  0.  0.  0.  0.]\n",
      " [ 0.  0.  0.  0.  0.  0.  0.]\n",
      " [ 0.  0.  0.  0.  0.  0.  0.]\n",
      " [ 0.  0.  0.  0.  0.  0.  0.]\n",
      " [ 1.  0.  0.  0. -1.  0.  0.]\n",
      " [-1.  0.  0.  0.  1.  0.  0.]]\n",
      "  --------------\n",
      "  --------------\n",
      "[[ 0.  0.  0.  0.  0.  0.  0.]\n",
      " [ 0.  0.  0.  0.  0.  0.  0.]\n",
      " [ 0.  0.  0.  0.  0.  0.  0.]\n",
      " [ 1.  0.  0.  0.  0.  0.  0.]\n",
      " [ 1.  0.  0.  0. -1.  0.  0.]\n",
      " [-1.  0.  0.  0.  1.  0.  0.]]\n",
      "  --------------\n",
      "  --------------\n",
      "[[ 0.  0.  0.  0.  0.  0.  0.]\n",
      " [ 0.  0.  0.  0.  0.  0.  0.]\n",
      " [-1.  0.  0.  0.  0.  0.  0.]\n",
      " [ 1.  0.  0.  0.  0.  0.  0.]\n",
      " [ 1.  0.  0.  0. -1.  0.  0.]\n",
      " [-1.  0.  0.  0.  1.  0.  0.]]\n",
      "  --------------\n",
      "  --------------\n",
      "[[ 0.  0.  0.  0.  0.  0.  0.]\n",
      " [ 0.  0.  0.  0.  0.  0.  0.]\n",
      " [-1.  0.  0.  0.  0.  0.  0.]\n",
      " [ 1.  0.  0.  0.  0.  0.  0.]\n",
      " [ 1.  0.  0.  0. -1.  0.  0.]\n",
      " [-1.  0.  0.  1.  1.  0.  0.]]\n",
      "  --------------\n",
      "  --------------\n",
      "[[ 0.  0.  0.  0.  0.  0.  0.]\n",
      " [ 0.  0.  0.  0.  0.  0.  0.]\n",
      " [-1.  0.  0.  0.  0.  0.  0.]\n",
      " [ 1.  0.  0.  0.  0.  0.  0.]\n",
      " [ 1.  0.  0.  0. -1.  0.  0.]\n",
      " [-1.  0. -1.  1.  1.  0.  0.]]\n",
      "  --------------\n",
      "  --------------\n",
      "[[ 0.  0.  0.  0.  0.  0.  0.]\n",
      " [ 0.  0.  0.  0.  0.  0.  0.]\n",
      " [-1.  0.  0.  0.  0.  0.  0.]\n",
      " [ 1.  0.  0.  0.  0.  0.  0.]\n",
      " [ 1.  0.  0.  0. -1.  0.  0.]\n",
      " [-1.  0. -1.  1.  1.  1.  0.]]\n",
      "  --------------\n",
      "  --------------\n",
      "[[ 0.  0.  0.  0.  0.  0.  0.]\n",
      " [ 0.  0.  0.  0.  0.  0.  0.]\n",
      " [-1.  0.  0.  0.  0.  0.  0.]\n",
      " [ 1.  0.  0.  0.  0.  0.  0.]\n",
      " [ 1.  0.  0.  0. -1. -1.  0.]\n",
      " [-1.  0. -1.  1.  1.  1.  0.]]\n",
      "  --------------\n",
      "  --------------\n",
      "[[ 0.  0.  0.  0.  0.  0.  0.]\n",
      " [ 0.  0.  0.  0.  0.  0.  0.]\n",
      " [-1.  0.  0.  0.  0.  0.  0.]\n",
      " [ 1.  0.  0.  0.  0.  1.  0.]\n",
      " [ 1.  0.  0.  0. -1. -1.  0.]\n",
      " [-1.  0. -1.  1.  1.  1.  0.]]\n",
      "  --------------\n",
      "  --------------\n",
      "[[ 0.  0.  0.  0.  0.  0.  0.]\n",
      " [ 0.  0.  0.  0.  0.  0.  0.]\n",
      " [-1.  0.  0.  0.  0.  0.  0.]\n",
      " [ 1.  0.  0.  0.  0.  1.  0.]\n",
      " [ 1.  0. -1.  0. -1. -1.  0.]\n",
      " [-1.  0. -1.  1.  1.  1.  0.]]\n",
      "  --------------\n",
      "  --------------\n",
      "[[ 0.  0.  0.  0.  0.  0.  0.]\n",
      " [ 0.  0.  0.  0.  0.  0.  0.]\n",
      " [-1.  0.  0.  0.  0.  0.  0.]\n",
      " [ 1.  0.  0.  0.  1.  1.  0.]\n",
      " [ 1.  0. -1.  0. -1. -1.  0.]\n",
      " [-1.  0. -1.  1.  1.  1.  0.]]\n",
      "  --------------\n",
      "  --------------\n",
      "[[ 0.  0.  0.  0.  0.  0.  0.]\n",
      " [-1.  0.  0.  0.  0.  0.  0.]\n",
      " [-1.  0.  0.  0.  0.  0.  0.]\n",
      " [ 1.  0.  0.  0.  1.  1.  0.]\n",
      " [ 1.  0. -1.  0. -1. -1.  0.]\n",
      " [-1.  0. -1.  1.  1.  1.  0.]]\n",
      "  --------------\n",
      "  --------------\n",
      "[[ 0.  0.  0.  0.  0.  0.  0.]\n",
      " [-1.  0.  0.  0.  0.  0.  0.]\n",
      " [-1.  0.  0.  0.  0.  0.  0.]\n",
      " [ 1.  0.  0.  0.  1.  1.  0.]\n",
      " [ 1.  0. -1.  0. -1. -1.  0.]\n",
      " [-1.  1. -1.  1.  1.  1.  0.]]\n",
      "  --------------\n",
      "  --------------\n",
      "[[ 0.  0.  0.  0.  0.  0.  0.]\n",
      " [-1.  0.  0.  0.  0.  0.  0.]\n",
      " [-1.  0.  0.  0.  0.  0.  0.]\n",
      " [ 1.  0.  0.  0.  1.  1.  0.]\n",
      " [ 1.  0. -1. -1. -1. -1.  0.]\n",
      " [-1.  1. -1.  1.  1.  1.  0.]]\n",
      "  --------------\n",
      "winner is: 2\n",
      "winner is: 2\n",
      "  --------------\n",
      "[[0. 0. 0. 0. 0. 0. 0.]\n",
      " [0. 0. 0. 0. 0. 0. 0.]\n",
      " [0. 0. 0. 0. 0. 0. 0.]\n",
      " [0. 0. 0. 0. 0. 0. 0.]\n",
      " [0. 0. 0. 0. 0. 0. 0.]\n",
      " [0. 0. 0. 0. 0. 0. 0.]]\n",
      "  --------------\n",
      "  --------------\n",
      "[[0. 0. 0. 0. 0. 0. 0.]\n",
      " [0. 0. 0. 0. 0. 0. 0.]\n",
      " [0. 0. 0. 0. 0. 0. 0.]\n",
      " [0. 0. 0. 0. 0. 0. 0.]\n",
      " [0. 0. 0. 0. 0. 0. 0.]\n",
      " [0. 0. 0. 0. 0. 0. 1.]]\n",
      "  --------------\n",
      "  --------------\n",
      "[[ 0.  0.  0.  0.  0.  0.  0.]\n",
      " [ 0.  0.  0.  0.  0.  0.  0.]\n",
      " [ 0.  0.  0.  0.  0.  0.  0.]\n",
      " [ 0.  0.  0.  0.  0.  0.  0.]\n",
      " [ 0.  0.  0.  0.  0.  0.  0.]\n",
      " [ 0.  0. -1.  0.  0.  0.  1.]]\n",
      "  --------------\n",
      "  --------------\n",
      "[[ 0.  0.  0.  0.  0.  0.  0.]\n",
      " [ 0.  0.  0.  0.  0.  0.  0.]\n",
      " [ 0.  0.  0.  0.  0.  0.  0.]\n",
      " [ 0.  0.  0.  0.  0.  0.  0.]\n",
      " [ 0.  0.  0.  0.  0.  0.  1.]\n",
      " [ 0.  0. -1.  0.  0.  0.  1.]]\n",
      "  --------------\n",
      "  --------------\n",
      "[[ 0.  0.  0.  0.  0.  0.  0.]\n",
      " [ 0.  0.  0.  0.  0.  0.  0.]\n",
      " [ 0.  0.  0.  0.  0.  0.  0.]\n",
      " [ 0.  0.  0.  0.  0.  0. -1.]\n",
      " [ 0.  0.  0.  0.  0.  0.  1.]\n",
      " [ 0.  0. -1.  0.  0.  0.  1.]]\n",
      "  --------------\n",
      "  --------------\n",
      "[[ 0.  0.  0.  0.  0.  0.  0.]\n",
      " [ 0.  0.  0.  0.  0.  0.  0.]\n",
      " [ 0.  0.  0.  0.  0.  0.  0.]\n",
      " [ 0.  0.  0.  0.  0.  0. -1.]\n",
      " [ 0.  0.  0.  0.  0.  0.  1.]\n",
      " [ 1.  0. -1.  0.  0.  0.  1.]]\n",
      "  --------------\n",
      "  --------------\n",
      "[[ 0.  0.  0.  0.  0.  0.  0.]\n",
      " [ 0.  0.  0.  0.  0.  0.  0.]\n",
      " [ 0.  0.  0.  0.  0.  0.  0.]\n",
      " [ 0.  0.  0.  0.  0.  0. -1.]\n",
      " [ 0.  0. -1.  0.  0.  0.  1.]\n",
      " [ 1.  0. -1.  0.  0.  0.  1.]]\n",
      "  --------------\n",
      "  --------------\n",
      "[[ 0.  0.  0.  0.  0.  0.  0.]\n",
      " [ 0.  0.  0.  0.  0.  0.  0.]\n",
      " [ 0.  0.  0.  0.  0.  0.  0.]\n",
      " [ 0.  0.  0.  0.  0.  0. -1.]\n",
      " [ 0.  0. -1.  0.  0.  0.  1.]\n",
      " [ 1.  0. -1.  0.  0.  1.  1.]]\n",
      "  --------------\n",
      "  --------------\n",
      "[[ 0.  0.  0.  0.  0.  0.  0.]\n",
      " [ 0.  0.  0.  0.  0.  0.  0.]\n",
      " [ 0.  0.  0.  0.  0.  0. -1.]\n",
      " [ 0.  0.  0.  0.  0.  0. -1.]\n",
      " [ 0.  0. -1.  0.  0.  0.  1.]\n",
      " [ 1.  0. -1.  0.  0.  1.  1.]]\n",
      "  --------------\n",
      "  --------------\n",
      "[[ 0.  0.  0.  0.  0.  0.  0.]\n",
      " [ 0.  0.  0.  0.  0.  0.  0.]\n",
      " [ 0.  0.  0.  0.  0.  0. -1.]\n",
      " [ 0.  0.  0.  0.  0.  0. -1.]\n",
      " [ 1.  0. -1.  0.  0.  0.  1.]\n",
      " [ 1.  0. -1.  0.  0.  1.  1.]]\n",
      "  --------------\n",
      "  --------------\n",
      "[[ 0.  0.  0.  0.  0.  0.  0.]\n",
      " [ 0.  0.  0.  0.  0.  0.  0.]\n",
      " [ 0.  0.  0.  0.  0.  0. -1.]\n",
      " [ 0.  0.  0.  0.  0.  0. -1.]\n",
      " [ 1.  0. -1.  0.  0.  0.  1.]\n",
      " [ 1.  0. -1. -1.  0.  1.  1.]]\n",
      "  --------------\n",
      "  --------------\n",
      "[[ 0.  0.  0.  0.  0.  0.  0.]\n",
      " [ 0.  0.  0.  0.  0.  0.  0.]\n",
      " [ 0.  0.  0.  0.  0.  0. -1.]\n",
      " [ 0.  0.  0.  0.  0.  0. -1.]\n",
      " [ 1.  0. -1.  1.  0.  0.  1.]\n",
      " [ 1.  0. -1. -1.  0.  1.  1.]]\n",
      "  --------------\n",
      "  --------------\n",
      "[[ 0.  0.  0.  0.  0.  0.  0.]\n",
      " [ 0.  0.  0.  0.  0.  0.  0.]\n",
      " [ 0.  0.  0.  0.  0.  0. -1.]\n",
      " [-1.  0.  0.  0.  0.  0. -1.]\n",
      " [ 1.  0. -1.  1.  0.  0.  1.]\n",
      " [ 1.  0. -1. -1.  0.  1.  1.]]\n",
      "  --------------\n",
      "  --------------\n",
      "[[ 0.  0.  0.  0.  0.  0.  0.]\n",
      " [ 0.  0.  0.  0.  0.  0.  0.]\n",
      " [ 1.  0.  0.  0.  0.  0. -1.]\n",
      " [-1.  0.  0.  0.  0.  0. -1.]\n",
      " [ 1.  0. -1.  1.  0.  0.  1.]\n",
      " [ 1.  0. -1. -1.  0.  1.  1.]]\n",
      "  --------------\n",
      "  --------------\n",
      "[[ 0.  0.  0.  0.  0.  0.  0.]\n",
      " [ 0.  0.  0.  0.  0.  0.  0.]\n",
      " [ 1.  0.  0.  0.  0.  0. -1.]\n",
      " [-1.  0.  0.  0.  0.  0. -1.]\n",
      " [ 1.  0. -1.  1.  0.  0.  1.]\n",
      " [ 1.  0. -1. -1. -1.  1.  1.]]\n",
      "  --------------\n",
      "  --------------\n",
      "[[ 0.  0.  0.  0.  0.  0.  0.]\n",
      " [ 0.  0.  0.  0.  0.  0.  0.]\n",
      " [ 1.  0.  0.  0.  0.  0. -1.]\n",
      " [-1.  0.  0.  0.  0.  0. -1.]\n",
      " [ 1.  0. -1.  1.  0.  0.  1.]\n",
      " [ 1.  1. -1. -1. -1.  1.  1.]]\n",
      "  --------------\n",
      "  --------------\n",
      "[[ 0.  0.  0.  0.  0.  0.  0.]\n",
      " [ 0.  0.  0.  0.  0.  0.  0.]\n",
      " [ 1.  0.  0.  0.  0.  0. -1.]\n",
      " [-1.  0.  0. -1.  0.  0. -1.]\n",
      " [ 1.  0. -1.  1.  0.  0.  1.]\n",
      " [ 1.  1. -1. -1. -1.  1.  1.]]\n",
      "  --------------\n",
      "  --------------\n",
      "[[ 0.  0.  0.  0.  0.  0.  0.]\n",
      " [ 1.  0.  0.  0.  0.  0.  0.]\n",
      " [ 1.  0.  0.  0.  0.  0. -1.]\n",
      " [-1.  0.  0. -1.  0.  0. -1.]\n",
      " [ 1.  0. -1.  1.  0.  0.  1.]\n",
      " [ 1.  1. -1. -1. -1.  1.  1.]]\n",
      "  --------------\n",
      "  --------------\n",
      "[[-1.  0.  0.  0.  0.  0.  0.]\n",
      " [ 1.  0.  0.  0.  0.  0.  0.]\n",
      " [ 1.  0.  0.  0.  0.  0. -1.]\n",
      " [-1.  0.  0. -1.  0.  0. -1.]\n",
      " [ 1.  0. -1.  1.  0.  0.  1.]\n",
      " [ 1.  1. -1. -1. -1.  1.  1.]]\n",
      "  --------------\n",
      "  --------------\n",
      "[[-1.  0.  0.  0.  0.  0.  0.]\n",
      " [ 1.  0.  0.  0.  0.  0.  0.]\n",
      " [ 1.  0.  0.  0.  0.  0. -1.]\n",
      " [-1.  0.  0. -1.  0.  0. -1.]\n",
      " [ 1.  1. -1.  1.  0.  0.  1.]\n",
      " [ 1.  1. -1. -1. -1.  1.  1.]]\n",
      "  --------------\n",
      "  --------------\n",
      "[[-1.  0.  0.  0.  0.  0.  0.]\n",
      " [ 1.  0.  0.  0.  0.  0.  0.]\n",
      " [ 1.  0.  0.  0.  0.  0. -1.]\n",
      " [-1. -1.  0. -1.  0.  0. -1.]\n",
      " [ 1.  1. -1.  1.  0.  0.  1.]\n",
      " [ 1.  1. -1. -1. -1.  1.  1.]]\n",
      "  --------------\n",
      "  --------------\n",
      "[[-1.  0.  0.  0.  0.  0.  0.]\n",
      " [ 1.  0.  0.  0.  0.  0.  1.]\n",
      " [ 1.  0.  0.  0.  0.  0. -1.]\n",
      " [-1. -1.  0. -1.  0.  0. -1.]\n",
      " [ 1.  1. -1.  1.  0.  0.  1.]\n",
      " [ 1.  1. -1. -1. -1.  1.  1.]]\n",
      "  --------------\n",
      "  --------------\n",
      "[[-1.  0.  0.  0.  0.  0.  0.]\n",
      " [ 1.  0.  0.  0.  0.  0.  1.]\n",
      " [ 1.  0.  0. -1.  0.  0. -1.]\n",
      " [-1. -1.  0. -1.  0.  0. -1.]\n",
      " [ 1.  1. -1.  1.  0.  0.  1.]\n",
      " [ 1.  1. -1. -1. -1.  1.  1.]]\n",
      "  --------------\n",
      "  --------------\n",
      "[[-1.  0.  0.  0.  0.  0.  0.]\n",
      " [ 1.  0.  0.  0.  0.  0.  1.]\n",
      " [ 1.  0.  0. -1.  0.  0. -1.]\n",
      " [-1. -1.  0. -1.  0.  0. -1.]\n",
      " [ 1.  1. -1.  1.  1.  0.  1.]\n",
      " [ 1.  1. -1. -1. -1.  1.  1.]]\n",
      "  --------------\n",
      "  --------------\n",
      "[[-1.  0.  0.  0.  0.  0.  0.]\n",
      " [ 1.  0.  0.  0.  0.  0.  1.]\n",
      " [ 1. -1.  0. -1.  0.  0. -1.]\n",
      " [-1. -1.  0. -1.  0.  0. -1.]\n",
      " [ 1.  1. -1.  1.  1.  0.  1.]\n",
      " [ 1.  1. -1. -1. -1.  1.  1.]]\n",
      "  --------------\n",
      "  --------------\n",
      "[[-1.  0.  0.  0.  0.  0.  0.]\n",
      " [ 1.  1.  0.  0.  0.  0.  1.]\n",
      " [ 1. -1.  0. -1.  0.  0. -1.]\n",
      " [-1. -1.  0. -1.  0.  0. -1.]\n",
      " [ 1.  1. -1.  1.  1.  0.  1.]\n",
      " [ 1.  1. -1. -1. -1.  1.  1.]]\n",
      "  --------------\n",
      "  --------------\n",
      "[[-1.  0.  0.  0.  0.  0.  0.]\n",
      " [ 1.  1.  0. -1.  0.  0.  1.]\n",
      " [ 1. -1.  0. -1.  0.  0. -1.]\n",
      " [-1. -1.  0. -1.  0.  0. -1.]\n",
      " [ 1.  1. -1.  1.  1.  0.  1.]\n",
      " [ 1.  1. -1. -1. -1.  1.  1.]]\n",
      "  --------------\n",
      "  --------------\n",
      "[[-1.  0.  0.  0.  0.  0.  0.]\n",
      " [ 1.  1.  0. -1.  0.  0.  1.]\n",
      " [ 1. -1.  0. -1.  0.  0. -1.]\n",
      " [-1. -1.  0. -1.  0.  0. -1.]\n",
      " [ 1.  1. -1.  1.  1.  1.  1.]\n",
      " [ 1.  1. -1. -1. -1.  1.  1.]]\n",
      "  --------------\n",
      "winner is: 1\n",
      "winner is: 1\n",
      "  --------------\n",
      "[[0. 0. 0. 0. 0. 0. 0.]\n",
      " [0. 0. 0. 0. 0. 0. 0.]\n",
      " [0. 0. 0. 0. 0. 0. 0.]\n",
      " [0. 0. 0. 0. 0. 0. 0.]\n",
      " [0. 0. 0. 0. 0. 0. 0.]\n",
      " [0. 0. 0. 0. 0. 0. 0.]]\n",
      "  --------------\n",
      "  --------------\n",
      "[[0. 0. 0. 0. 0. 0. 0.]\n",
      " [0. 0. 0. 0. 0. 0. 0.]\n",
      " [0. 0. 0. 0. 0. 0. 0.]\n",
      " [0. 0. 0. 0. 0. 0. 0.]\n",
      " [0. 0. 0. 0. 0. 0. 0.]\n",
      " [1. 0. 0. 0. 0. 0. 0.]]\n",
      "  --------------\n",
      "  --------------\n",
      "[[ 0.  0.  0.  0.  0.  0.  0.]\n",
      " [ 0.  0.  0.  0.  0.  0.  0.]\n",
      " [ 0.  0.  0.  0.  0.  0.  0.]\n",
      " [ 0.  0.  0.  0.  0.  0.  0.]\n",
      " [ 0.  0.  0.  0.  0.  0.  0.]\n",
      " [ 1.  0.  0.  0. -1.  0.  0.]]\n",
      "  --------------\n",
      "  --------------\n",
      "[[ 0.  0.  0.  0.  0.  0.  0.]\n",
      " [ 0.  0.  0.  0.  0.  0.  0.]\n",
      " [ 0.  0.  0.  0.  0.  0.  0.]\n",
      " [ 0.  0.  0.  0.  0.  0.  0.]\n",
      " [ 0.  0.  0.  0.  1.  0.  0.]\n",
      " [ 1.  0.  0.  0. -1.  0.  0.]]\n",
      "  --------------\n",
      "  --------------\n",
      "[[ 0.  0.  0.  0.  0.  0.  0.]\n",
      " [ 0.  0.  0.  0.  0.  0.  0.]\n",
      " [ 0.  0.  0.  0.  0.  0.  0.]\n",
      " [ 0.  0.  0.  0.  0.  0.  0.]\n",
      " [-1.  0.  0.  0.  1.  0.  0.]\n",
      " [ 1.  0.  0.  0. -1.  0.  0.]]\n",
      "  --------------\n",
      "  --------------\n",
      "[[ 0.  0.  0.  0.  0.  0.  0.]\n",
      " [ 0.  0.  0.  0.  0.  0.  0.]\n",
      " [ 0.  0.  0.  0.  0.  0.  0.]\n",
      " [ 0.  0.  0.  0.  0.  0.  0.]\n",
      " [-1.  0.  0.  0.  1.  0.  0.]\n",
      " [ 1.  0.  0.  0. -1.  0.  1.]]\n",
      "  --------------\n",
      "  --------------\n",
      "[[ 0.  0.  0.  0.  0.  0.  0.]\n",
      " [ 0.  0.  0.  0.  0.  0.  0.]\n",
      " [ 0.  0.  0.  0.  0.  0.  0.]\n",
      " [ 0.  0.  0.  0.  0.  0.  0.]\n",
      " [-1.  0.  0.  0.  1.  0.  0.]\n",
      " [ 1.  0.  0.  0. -1. -1.  1.]]\n",
      "  --------------\n",
      "  --------------\n",
      "[[ 0.  0.  0.  0.  0.  0.  0.]\n",
      " [ 0.  0.  0.  0.  0.  0.  0.]\n",
      " [ 0.  0.  0.  0.  0.  0.  0.]\n",
      " [ 0.  0.  0.  0.  0.  0.  0.]\n",
      " [-1.  0.  0.  0.  1.  0.  0.]\n",
      " [ 1.  1.  0.  0. -1. -1.  1.]]\n",
      "  --------------\n",
      "  --------------\n",
      "[[ 0.  0.  0.  0.  0.  0.  0.]\n",
      " [ 0.  0.  0.  0.  0.  0.  0.]\n",
      " [ 0.  0.  0.  0.  0.  0.  0.]\n",
      " [ 0.  0.  0.  0.  0.  0.  0.]\n",
      " [-1.  0.  0.  0.  1.  0.  0.]\n",
      " [ 1.  1.  0. -1. -1. -1.  1.]]\n",
      "  --------------\n",
      "  --------------\n",
      "[[ 0.  0.  0.  0.  0.  0.  0.]\n",
      " [ 0.  0.  0.  0.  0.  0.  0.]\n",
      " [ 0.  0.  0.  0.  0.  0.  0.]\n",
      " [ 1.  0.  0.  0.  0.  0.  0.]\n",
      " [-1.  0.  0.  0.  1.  0.  0.]\n",
      " [ 1.  1.  0. -1. -1. -1.  1.]]\n",
      "  --------------\n",
      "  --------------\n",
      "[[ 0.  0.  0.  0.  0.  0.  0.]\n",
      " [ 0.  0.  0.  0.  0.  0.  0.]\n",
      " [ 0.  0.  0.  0.  0.  0.  0.]\n",
      " [ 1.  0.  0.  0.  0.  0.  0.]\n",
      " [-1.  0.  0.  0.  1. -1.  0.]\n",
      " [ 1.  1.  0. -1. -1. -1.  1.]]\n",
      "  --------------\n",
      "  --------------\n",
      "[[ 0.  0.  0.  0.  0.  0.  0.]\n",
      " [ 0.  0.  0.  0.  0.  0.  0.]\n",
      " [ 0.  0.  0.  0.  0.  0.  0.]\n",
      " [ 1.  0.  0.  0.  0.  0.  0.]\n",
      " [-1.  0.  0.  0.  1. -1.  1.]\n",
      " [ 1.  1.  0. -1. -1. -1.  1.]]\n",
      "  --------------\n",
      "  --------------\n",
      "[[ 0.  0.  0.  0.  0.  0.  0.]\n",
      " [ 0.  0.  0.  0.  0.  0.  0.]\n",
      " [ 0.  0.  0.  0.  0.  0.  0.]\n",
      " [ 1.  0.  0.  0.  0.  0.  0.]\n",
      " [-1.  0.  0. -1.  1. -1.  1.]\n",
      " [ 1.  1.  0. -1. -1. -1.  1.]]\n",
      "  --------------\n",
      "  --------------\n",
      "[[ 0.  0.  0.  0.  0.  0.  0.]\n",
      " [ 0.  0.  0.  0.  0.  0.  0.]\n",
      " [ 1.  0.  0.  0.  0.  0.  0.]\n",
      " [ 1.  0.  0.  0.  0.  0.  0.]\n",
      " [-1.  0.  0. -1.  1. -1.  1.]\n",
      " [ 1.  1.  0. -1. -1. -1.  1.]]\n",
      "  --------------\n",
      "  --------------\n",
      "[[ 0.  0.  0.  0.  0.  0.  0.]\n",
      " [ 0.  0.  0.  0.  0.  0.  0.]\n",
      " [ 1.  0.  0.  0.  0.  0.  0.]\n",
      " [ 1.  0.  0.  0.  0. -1.  0.]\n",
      " [-1.  0.  0. -1.  1. -1.  1.]\n",
      " [ 1.  1.  0. -1. -1. -1.  1.]]\n",
      "  --------------\n",
      "  --------------\n",
      "[[ 0.  0.  0.  0.  0.  0.  0.]\n",
      " [ 0.  0.  0.  0.  0.  0.  0.]\n",
      " [ 1.  0.  0.  0.  0.  0.  0.]\n",
      " [ 1.  0.  0.  0.  0. -1.  0.]\n",
      " [-1.  1.  0. -1.  1. -1.  1.]\n",
      " [ 1.  1.  0. -1. -1. -1.  1.]]\n",
      "  --------------\n",
      "  --------------\n",
      "[[ 0.  0.  0.  0.  0.  0.  0.]\n",
      " [ 0.  0.  0.  0.  0.  0.  0.]\n",
      " [ 1.  0.  0.  0.  0. -1.  0.]\n",
      " [ 1.  0.  0.  0.  0. -1.  0.]\n",
      " [-1.  1.  0. -1.  1. -1.  1.]\n",
      " [ 1.  1.  0. -1. -1. -1.  1.]]\n",
      "  --------------\n",
      "winner is: 2\n",
      "winner is: 2\n"
     ]
    },
    {
     "data": {
      "image/png": "[encoded data removed]",
      "text/plain": [
       "<Figure size 432x288 with 1 Axes>"
      ]
     },
     "metadata": {
      "needs_background": "light"
     },
     "output_type": "display_data"
    },
    {
     "name": "stdout",
     "output_type": "stream",
     "text": [
      "% of all actions used and associated states: 15.051020408163266%\n"
     ]
    },
    {
     "data": {
      "text/plain": [
       "{1: 2, 2: 3, 0: 0, 'move_count': 0}"
      ]
     },
     "execution_count": 27,
     "metadata": {},
     "output_type": "execute_result"
    }
   ],
   "source": [
    "episodes = 5\n",
    "game = ConnectFourEnviroment(RLAgent, RLAgent, 0.8, 0.8)\n",
    "game.play_multiple_games(episodes)"
   ]
  },
  {
   "cell_type": "markdown",
   "metadata": {
    "slideshow": {
     "slide_type": "slide"
    }
   },
   "source": [
    "### ***Ergebnisse der Lösungsansätze***"
   ]
  },
  {
   "cell_type": "markdown",
   "metadata": {
    "slideshow": {
     "slide_type": "subslide"
    }
   },
   "source": [
    "***Ansatz 1***\n",
    "<font size=\"2\">\n",
    "* ***q-table state space***: der q_table-Zustandsraum wächst, zeigt eine lineare Abhängigkeit von der Anzahl der Episoden, wie in den obigen Graphen dargestellt.\n",
    "* ***Anzahl von Siegen***: der erste Spieler gewinnt mehr als der zweite Spieler und es gibt nur sehr wenige Episoden, in denen ein Unentschieden herauskommt.\n",
    "* ***Lernen durch Agenten***: Da der Zustandsraum der connect4-Umgebung mit einer unteren Schranke von 16,000,000,000,000.0(<a href=\"https://web.stanford.edu/class/aa228/reports/2019/final106.pdf\">gemäß dieser Forschungsarbeit</a>) sehr groß ist, wird bei 50000 Episoden nur ein Bruchteil des gesamten Zustandsraums mit Ansatz1 erforscht. Aus den Graphen lässt sich jedoch ablesen, dass die Agenten zu lernen scheinen, da die von den Agenten gesammelten durchschnittlichen Belohnungen auch bei 50000 Episoden zu steigen scheinen. </font>"
   ]
  },
  {
   "cell_type": "markdown",
   "metadata": {
    "slideshow": {
     "slide_type": "subslide"
    }
   },
   "source": [
    "***Ansatz 2***\n",
    "<font size=\"2\">\n",
    "* ***q-table state space***: auch hier wächst der Zustandsraum, weshalb die Exploration zu funktionieren scheint\n",
    "* ***Anzahl von Siegen***: ähnlich zu Ansatz 1\n",
    "* ***Lernen durch Agenten***: Der Zustandsraum wurde, genauso wie im ersten Ansatz, sehr wenig erforscht. Ebenso haben wir im zweiten Ansatz erfahren, dass bei einem wachsendem Zustandsraum die Wahrscheinlichkeit des Wiederholens eines gleichen Zustandes weniger wird und somit auch die Chance auf verschiedene Varianten eines Zustandes geringer wird. Damit vervielfältigt sich auch die Anzahl an zu benötigten Episoden für gute Lernergebnisse. </font>"
   ]
  },
  {
   "cell_type": "markdown",
   "metadata": {
    "slideshow": {
     "slide_type": "slide"
    }
   },
   "source": [
    "### ***Vielen Dank für die Aufmerksamkeit!***"
   ]
  },
  {
   "cell_type": "markdown",
   "metadata": {
    "slideshow": {
     "slide_type": "slide"
    }
   },
   "source": [
    "### ***Quellen***\n",
    "\n",
    "* https://medium.com/@carsten.friedrich/part-3-tabular-q-learning-a-tic-tac-toe-player-that-gets-better-and-better-fa4da4b0892a\n",
    "* https://www.baeldung.com/cs/epsilon-greedy-q-learning\n",
    "* https://web.stanford.edu/class/aa228/reports/2019/final106.pdf\n",
    "* https://en.wikipedia.org/wiki/Q-learning\n",
    "* https://www.geeksforgeeks.org/epsilon-greedy-algorithm-in-reinforcement-learning/\n",
    "* https://blog.floydhub.com/an-introduction-to-q-learning-reinforcement-learning/\n",
    "\n",
    "***Bildquellen:***\n",
    "* https://www.baeldung.com/wp-content/uploads/sites/4/2020/12/q-learning-epsilon-greedy-1.png\n",
    "* https://media.geeksforgeeks.org/wp-content/uploads/20200318200401/Screenshot-2020-03-18-at-8.03.38-PM.png\n",
    "* https://media.geeksforgeeks.org/wp-content/uploads/20200316215850/Screenshot-2020-03-16-at-9.58.10-PM.png\n",
    "* https://wikimedia.org/api/rest_v1/media/math/render/svg/678cb558a9d59c33ef4810c9618baf34a9577686\n",
    "* https://www.baeldung.com/wp-content/uploads/sites/4/2020/12/q-learning-Q-table.png\n",
    "* https://deeplizard.com/learn/video/my207WNoeyA\n",
    "* https://deeplizard.com/images/MDP-diagram.jpg\n",
    "* https://upload.wikimedia.org/wikipedia/commons/thumb/a/ad/Connect_Four.gif/220px-Connect_Four.gif\n"
   ]
  }
 ],
 "metadata": {
  "celltoolbar": "Slideshow",
  "kernelspec": {
   "display_name": "Python 3",
   "language": "python",
   "name": "python3"
  },
  "language_info": {
   "codemirror_mode": {
    "name": "ipython",
    "version": 3
   },
   "file_extension": ".py",
   "mimetype": "text/x-python",
   "name": "python",
   "nbconvert_exporter": "python",
   "pygments_lexer": "ipython3",
   "version": "3.6.9"
  }
 },
 "nbformat": 4,
 "nbformat_minor": 4
}
